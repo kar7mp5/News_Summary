{
 "cells": [
  {
   "cell_type": "code",
   "execution_count": 1,
   "metadata": {},
   "outputs": [],
   "source": [
    "import os\n",
    "import warnings\n",
    "warnings.filterwarnings(\"ignore\")"
   ]
  },
  {
   "cell_type": "code",
   "execution_count": 2,
   "metadata": {},
   "outputs": [],
   "source": [
    "from langchain_community.llms import Ollama\n",
    "from langchain import PromptTemplate\n",
    "\n",
    "model = Ollama(model='gemma2:2b', stop=[\"<|eot_id|>\"]) # Added the stop token\n",
    "\n",
    "def get_model_response(user_prompt, system_prompt):\n",
    "    # NOTE: No f-string and no whitespace in curly braces.\n",
    "    template = \"\"\"\n",
    "        <|begin_of_text|>\n",
    "        <|start_header_id|>system<|end_header_id|>\n",
    "        {system_prompt}\n",
    "        <|eot_id|>\n",
    "        <|start_header_id|>user<|end_header_id|>\n",
    "        {user_prompt}\n",
    "        <|eot_id|>\n",
    "        <|start_header_id|>assistant<|end_header_id|>\n",
    "    \"\"\"\n",
    "    \n",
    "    prompt = PromptTemplate(\n",
    "        input_variables=['system_prompt', 'user_prompt'],\n",
    "        template=template\n",
    "    )\n",
    "    \n",
    "    response = model(prompt.format(system_prompt=system_prompt, user_prompt=user_prompt))\n",
    "\n",
    "    return response"
   ]
  },
  {
   "cell_type": "code",
   "execution_count": 3,
   "metadata": {},
   "outputs": [
    {
     "name": "stderr",
     "output_type": "stream",
     "text": [
      "/tmp/ipykernel_20639/2636955753.py:24: LangChainDeprecationWarning: The method `BaseLLM.__call__` was deprecated in langchain-core 0.1.7 and will be removed in 1.0. Use invoke instead.\n",
      "  response = model(prompt.format(system_prompt=system_prompt, user_prompt=user_prompt))\n"
     ]
    },
    {
     "name": "stdout",
     "output_type": "stream",
     "text": [
      "```json\n",
      "{\"result\": \"서울은 대한민국에서 가장 큰 도시 중 하나인 곳입니다. 옛날부터 중요한 문화와 역사적 의미를 가진 도시로, 서울의 역사와 문화는 대통령의 주택, 국회, 관광 명소 등에 나타납니다. 서울은 많은 관광 명소가 있어 한국 최대 인구 중심지에 위치해 있습니다. 관광객들에게 긍정적인 경험을 제공하는 곳이라는 점에서 특별한 도시입니다.\"}\n",
      "```\n"
     ]
    }
   ],
   "source": [
    "user_prompt = \"Explain about Seoul.\"\n",
    "\n",
    "system_prompt = \"\"\"Think and write your step-by-step reasoning before responding.\n",
    "Make sure you don't deviate from json grammar.\n",
    "Please write all conversations in Korean(한국어).\n",
    "\n",
    "You must return a value in the following format:\n",
    "{\"result\": \"text\"}\n",
    "\n",
    "You will be given human language prompts, and you need to return a JSON conformant to the ontology. Any action not in the ontology must be ignored. Here are some examples.\n",
    "\n",
    "prompt: \"What is LangChain?\"\n",
    "returns: {\"result\": \"LangChain is a framework designed to help develop applications using language models.\"}\n",
    "\"\"\"\n",
    "\n",
    "res = get_model_response(user_prompt, system_prompt)\n",
    "print(res)"
   ]
  },
  {
   "cell_type": "code",
   "execution_count": 4,
   "metadata": {},
   "outputs": [],
   "source": [
    "import re\n",
    "\n",
    "pattern = r'^```(?:\\w+)?\\s*\\n(.*?)(?=^```)```'\n",
    "rm_codeblock_res = re.findall(pattern, res, re.DOTALL | re.MULTILINE)"
   ]
  },
  {
   "cell_type": "code",
   "execution_count": 5,
   "metadata": {},
   "outputs": [
    {
     "data": {
      "text/plain": [
       "'{\"result\": \"서울은 대한민국에서 가장 큰 도시 중 하나인 곳입니다. 옛날부터 중요한 문화와 역사적 의미를 가진 도시로, 서울의 역사와 문화는 대통령의 주택, 국회, 관광 명소 등에 나타납니다. 서울은 많은 관광 명소가 있어 한국 최대 인구 중심지에 위치해 있습니다. 관광객들에게 긍정적인 경험을 제공하는 곳이라는 점에서 특별한 도시입니다.\"}'"
      ]
     },
     "execution_count": 5,
     "metadata": {},
     "output_type": "execute_result"
    }
   ],
   "source": [
    "cleaned_data = re.sub(r'[\\x00-\\x1F\\x7F]', '', rm_codeblock_res[0].strip())\n",
    "\n",
    "cleaned_data"
   ]
  },
  {
   "cell_type": "code",
   "execution_count": 6,
   "metadata": {},
   "outputs": [
    {
     "name": "stdout",
     "output_type": "stream",
     "text": [
      "서울은 대한민국에서 가장 큰 도시 중 하나인 곳입니다. 옛날부터 중요한 문화와 역사적 의미를 가진 도시로, 서울의 역사와 문화는 대통령의 주택, 국회, 관광 명소 등에 나타납니다. 서울은 많은 관광 명소가 있어 한국 최대 인구 중심지에 위치해 있습니다. 관광객들에게 긍정적인 경험을 제공하는 곳이라는 점에서 특별한 도시입니다.\n"
     ]
    }
   ],
   "source": [
    "import json\n",
    "\n",
    "res_json = json.loads(cleaned_data)\n",
    "print(res_json['result'])"
   ]
  }
 ],
 "metadata": {
  "kernelspec": {
   "display_name": "venv",
   "language": "python",
   "name": "python3"
  },
  "language_info": {
   "codemirror_mode": {
    "name": "ipython",
    "version": 3
   },
   "file_extension": ".py",
   "mimetype": "text/x-python",
   "name": "python",
   "nbconvert_exporter": "python",
   "pygments_lexer": "ipython3",
   "version": "3.12.6"
  }
 },
 "nbformat": 4,
 "nbformat_minor": 2
}
