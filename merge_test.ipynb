{
 "cells": [
  {
   "cell_type": "code",
   "execution_count": 1,
   "metadata": {},
   "outputs": [
    {
     "name": "stderr",
     "output_type": "stream",
     "text": [
      "USER_AGENT environment variable not set, consider setting it to identify your requests.\n",
      "/home/kar/Projects/News_Summary/venv/lib/python3.12/site-packages/pydantic/_internal/_fields.py:132: UserWarning: Field \"model_name\" in HuggingFaceInferenceAPIEmbeddings has conflict with protected namespace \"model_\".\n",
      "\n",
      "You may be able to resolve this warning by setting `model_config['protected_namespaces'] = ()`.\n",
      "  warnings.warn(\n"
     ]
    },
    {
     "data": {
      "text/html": [
       "<div>\n",
       "<style scoped>\n",
       "    .dataframe tbody tr th:only-of-type {\n",
       "        vertical-align: middle;\n",
       "    }\n",
       "\n",
       "    .dataframe tbody tr th {\n",
       "        vertical-align: top;\n",
       "    }\n",
       "\n",
       "    .dataframe thead th {\n",
       "        text-align: right;\n",
       "    }\n",
       "</style>\n",
       "<table border=\"1\" class=\"dataframe\">\n",
       "  <thead>\n",
       "    <tr style=\"text-align: right;\">\n",
       "      <th></th>\n",
       "      <th>title</th>\n",
       "      <th>points</th>\n",
       "      <th>link</th>\n",
       "    </tr>\n",
       "  </thead>\n",
       "  <tbody>\n",
       "    <tr>\n",
       "      <th>0</th>\n",
       "      <td>GN⁺: OpenFreeMap – 오픈소스 지도 호스팅 (openfreemap.org)</td>\n",
       "      <td>17</td>\n",
       "      <td>https://openfreemap.org/</td>\n",
       "    </tr>\n",
       "    <tr>\n",
       "      <th>1</th>\n",
       "      <td>GN⁺: 맥도날드 터치스크린 키오스크, 일자리를 위협한다는 우려를 받았으나 예상과는...</td>\n",
       "      <td>6</td>\n",
       "      <td>https://edition.cnn.com/2024/09/20/business/se...</td>\n",
       "    </tr>\n",
       "    <tr>\n",
       "      <th>2</th>\n",
       "      <td>GN⁺: 지능의 시대 (The Intelligence Age) - 샘 알트만 (ia...</td>\n",
       "      <td>23</td>\n",
       "      <td>https://ia.samaltman.com/</td>\n",
       "    </tr>\n",
       "    <tr>\n",
       "      <th>3</th>\n",
       "      <td>Deno 2.0 Release Candidate (deno.com)</td>\n",
       "      <td>4</td>\n",
       "      <td>https://deno.com/blog/v2.0-release-candidate</td>\n",
       "    </tr>\n",
       "    <tr>\n",
       "      <th>4</th>\n",
       "      <td>GN⁺: AI Impact 보고서 2024 : AI 도입과 혁신 현황 (konghq...</td>\n",
       "      <td>4</td>\n",
       "      <td>https://konghq.com/resources/reports/ai-and-ap...</td>\n",
       "    </tr>\n",
       "    <tr>\n",
       "      <th>5</th>\n",
       "      <td>광주전남지역 개발자 컨퍼런스 - 2024 GIST Developers' Night ...</td>\n",
       "      <td>7</td>\n",
       "      <td>https://gistdevnight.notion.site/2024-GIST-Dev...</td>\n",
       "    </tr>\n",
       "    <tr>\n",
       "      <th>6</th>\n",
       "      <td>Ask HN: 스타트업을 위한 필독도서가 있을까요? (news.ycombinator...</td>\n",
       "      <td>27</td>\n",
       "      <td>https://news.ycombinator.com/item?id=41545633</td>\n",
       "    </tr>\n",
       "    <tr>\n",
       "      <th>7</th>\n",
       "      <td>GN⁺: WP Engine이 Automattic에 \"중단 및 금지 명령\" 서신을 보...</td>\n",
       "      <td>3</td>\n",
       "      <td>https://twitter.com/wpengine/status/1838350670...</td>\n",
       "    </tr>\n",
       "    <tr>\n",
       "      <th>8</th>\n",
       "      <td>Daytona - 오픈소스 개발환경 관리자 (github.com/daytonaio)</td>\n",
       "      <td>24</td>\n",
       "      <td>https://github.com/daytonaio/daytona</td>\n",
       "    </tr>\n",
       "    <tr>\n",
       "      <th>9</th>\n",
       "      <td>GN⁺: 디터 람스에 영감 받은 iPhone 독 디자인 (arslan.io)</td>\n",
       "      <td>9</td>\n",
       "      <td>https://arslan.io/2024/09/23/dieter-rams-inspi...</td>\n",
       "    </tr>\n",
       "    <tr>\n",
       "      <th>10</th>\n",
       "      <td>Relly - 지루한 스탠드업 미팅은 이제 그만 (relly.io)</td>\n",
       "      <td>1</td>\n",
       "      <td>https://www.relly.io/ko</td>\n",
       "    </tr>\n",
       "    <tr>\n",
       "      <th>11</th>\n",
       "      <td>GN⁺: Valve, 유명 게임에 ARM64 지원을 테스팅 중 (notebookch...</td>\n",
       "      <td>2</td>\n",
       "      <td>https://www.notebookcheck.net/Valve-is-testing...</td>\n",
       "    </tr>\n",
       "    <tr>\n",
       "      <th>12</th>\n",
       "      <td>GN⁺: Discord가 웹소켓 트래픽을 40% 감소시킨 방법 (discord.com)</td>\n",
       "      <td>17</td>\n",
       "      <td>https://discord.com/blog/how-discord-reduced-w...</td>\n",
       "    </tr>\n",
       "    <tr>\n",
       "      <th>13</th>\n",
       "      <td>GN⁺: Rawdrawandroid – Java 없이 C와 Make로 안드로이드 앱...</td>\n",
       "      <td>13</td>\n",
       "      <td>https://github.com/cnlohr/rawdrawandroid</td>\n",
       "    </tr>\n",
       "    <tr>\n",
       "      <th>14</th>\n",
       "      <td>iOS에서 앱 삭제를 막는 법 (tinycoder.pika.page)</td>\n",
       "      <td>6</td>\n",
       "      <td>https://tinycoder.pika.page/posts/you-can-prev...</td>\n",
       "    </tr>\n",
       "    <tr>\n",
       "      <th>15</th>\n",
       "      <td>GN⁺: Cloudflare의 새로운 마켓플레이스, 웹사이트가 AI 스크래핑 봇 에...</td>\n",
       "      <td>7</td>\n",
       "      <td>https://techcrunch.com/2024/09/23/cloudflares-...</td>\n",
       "    </tr>\n",
       "    <tr>\n",
       "      <th>16</th>\n",
       "      <td>GN⁺: ChatGPT는 잊어라: 연구자들이 이제 노트북에서 소형 AI를 실행하는 ...</td>\n",
       "      <td>25</td>\n",
       "      <td>https://www.nature.com/articles/d41586-024-029...</td>\n",
       "    </tr>\n",
       "    <tr>\n",
       "      <th>17</th>\n",
       "      <td>어떻게 스타트업이 기존 기업들을 이길 수 있는가(How startups beat i...</td>\n",
       "      <td>38</td>\n",
       "      <td>https://secretive-snowstorm-1b6.notion.site/Ho...</td>\n",
       "    </tr>\n",
       "    <tr>\n",
       "      <th>18</th>\n",
       "      <td>GN⁺: \"Building in Public\" 이 정말로 효과가 있을까? (laik...</td>\n",
       "      <td>5</td>\n",
       "      <td>https://laike9m.com/blog/no-one-builds-in-publ...</td>\n",
       "    </tr>\n",
       "    <tr>\n",
       "      <th>19</th>\n",
       "      <td>GN⁺: 이 카페의 QR코드 메뉴에는 무엇이 들어있을까? (peabee.substa...</td>\n",
       "      <td>5</td>\n",
       "      <td>https://peabee.substack.com/p/whats-inside-the...</td>\n",
       "    </tr>\n",
       "  </tbody>\n",
       "</table>\n",
       "</div>"
      ],
      "text/plain": [
       "                                                title points  \\\n",
       "0    GN⁺: OpenFreeMap – 오픈소스 지도 호스팅 (openfreemap.org)     17   \n",
       "1   GN⁺: 맥도날드 터치스크린 키오스크, 일자리를 위협한다는 우려를 받았으나 예상과는...      6   \n",
       "2   GN⁺: 지능의 시대 (The Intelligence Age) - 샘 알트만 (ia...     23   \n",
       "3               Deno 2.0 Release Candidate (deno.com)      4   \n",
       "4   GN⁺: AI Impact 보고서 2024 : AI 도입과 혁신 현황 (konghq...      4   \n",
       "5   광주전남지역 개발자 컨퍼런스 - 2024 GIST Developers' Night ...      7   \n",
       "6   Ask HN: 스타트업을 위한 필독도서가 있을까요? (news.ycombinator...     27   \n",
       "7   GN⁺: WP Engine이 Automattic에 \"중단 및 금지 명령\" 서신을 보...      3   \n",
       "8      Daytona - 오픈소스 개발환경 관리자 (github.com/daytonaio)     24   \n",
       "9          GN⁺: 디터 람스에 영감 받은 iPhone 독 디자인 (arslan.io)      9   \n",
       "10              Relly - 지루한 스탠드업 미팅은 이제 그만 (relly.io)      1   \n",
       "11  GN⁺: Valve, 유명 게임에 ARM64 지원을 테스팅 중 (notebookch...      2   \n",
       "12   GN⁺: Discord가 웹소켓 트래픽을 40% 감소시킨 방법 (discord.com)     17   \n",
       "13  GN⁺: Rawdrawandroid – Java 없이 C와 Make로 안드로이드 앱...     13   \n",
       "14             iOS에서 앱 삭제를 막는 법 (tinycoder.pika.page)      6   \n",
       "15  GN⁺: Cloudflare의 새로운 마켓플레이스, 웹사이트가 AI 스크래핑 봇 에...      7   \n",
       "16  GN⁺: ChatGPT는 잊어라: 연구자들이 이제 노트북에서 소형 AI를 실행하는 ...     25   \n",
       "17  어떻게 스타트업이 기존 기업들을 이길 수 있는가(How startups beat i...     38   \n",
       "18  GN⁺: \"Building in Public\" 이 정말로 효과가 있을까? (laik...      5   \n",
       "19  GN⁺: 이 카페의 QR코드 메뉴에는 무엇이 들어있을까? (peabee.substa...      5   \n",
       "\n",
       "                                                 link  \n",
       "0                            https://openfreemap.org/  \n",
       "1   https://edition.cnn.com/2024/09/20/business/se...  \n",
       "2                           https://ia.samaltman.com/  \n",
       "3        https://deno.com/blog/v2.0-release-candidate  \n",
       "4   https://konghq.com/resources/reports/ai-and-ap...  \n",
       "5   https://gistdevnight.notion.site/2024-GIST-Dev...  \n",
       "6       https://news.ycombinator.com/item?id=41545633  \n",
       "7   https://twitter.com/wpengine/status/1838350670...  \n",
       "8                https://github.com/daytonaio/daytona  \n",
       "9   https://arslan.io/2024/09/23/dieter-rams-inspi...  \n",
       "10                            https://www.relly.io/ko  \n",
       "11  https://www.notebookcheck.net/Valve-is-testing...  \n",
       "12  https://discord.com/blog/how-discord-reduced-w...  \n",
       "13           https://github.com/cnlohr/rawdrawandroid  \n",
       "14  https://tinycoder.pika.page/posts/you-can-prev...  \n",
       "15  https://techcrunch.com/2024/09/23/cloudflares-...  \n",
       "16  https://www.nature.com/articles/d41586-024-029...  \n",
       "17  https://secretive-snowstorm-1b6.notion.site/Ho...  \n",
       "18  https://laike9m.com/blog/no-one-builds-in-publ...  \n",
       "19  https://peabee.substack.com/p/whats-inside-the...  "
      ]
     },
     "execution_count": 1,
     "metadata": {},
     "output_type": "execute_result"
    }
   ],
   "source": [
    "# test.py\n",
    "import pandas as pd\n",
    "from ArticleTools import crawling_news\n",
    "\n",
    "df = pd.DataFrame(crawling_news.get_req())\n",
    "df"
   ]
  },
  {
   "cell_type": "code",
   "execution_count": 2,
   "metadata": {},
   "outputs": [
    {
     "data": {
      "text/plain": [
       "0                              https://openfreemap.org/\n",
       "1     https://edition.cnn.com/2024/09/20/business/se...\n",
       "2                             https://ia.samaltman.com/\n",
       "3          https://deno.com/blog/v2.0-release-candidate\n",
       "4     https://konghq.com/resources/reports/ai-and-ap...\n",
       "5     https://gistdevnight.notion.site/2024-GIST-Dev...\n",
       "6         https://news.ycombinator.com/item?id=41545633\n",
       "7     https://twitter.com/wpengine/status/1838350670...\n",
       "8                  https://github.com/daytonaio/daytona\n",
       "9     https://arslan.io/2024/09/23/dieter-rams-inspi...\n",
       "10                              https://www.relly.io/ko\n",
       "11    https://www.notebookcheck.net/Valve-is-testing...\n",
       "12    https://discord.com/blog/how-discord-reduced-w...\n",
       "13             https://github.com/cnlohr/rawdrawandroid\n",
       "14    https://tinycoder.pika.page/posts/you-can-prev...\n",
       "15    https://techcrunch.com/2024/09/23/cloudflares-...\n",
       "16    https://www.nature.com/articles/d41586-024-029...\n",
       "17    https://secretive-snowstorm-1b6.notion.site/Ho...\n",
       "18    https://laike9m.com/blog/no-one-builds-in-publ...\n",
       "19    https://peabee.substack.com/p/whats-inside-the...\n",
       "Name: link, dtype: object"
      ]
     },
     "execution_count": 2,
     "metadata": {},
     "output_type": "execute_result"
    }
   ],
   "source": [
    "df['link']"
   ]
  },
  {
   "cell_type": "code",
   "execution_count": 3,
   "metadata": {},
   "outputs": [],
   "source": [
    "from langchain.document_loaders import WebBaseLoader\n",
    "from langchain.text_splitter import RecursiveCharacterTextSplitter\n",
    "\n",
    "loader = WebBaseLoader(df['link'][13])\n",
    "data = loader.load()\n",
    "\n",
    "text_splitter=RecursiveCharacterTextSplitter(chunk_size=500, chunk_overlap=0) \n",
    "all_splits = text_splitter.split_documents(data)"
   ]
  },
  {
   "cell_type": "code",
   "execution_count": 4,
   "metadata": {},
   "outputs": [
    {
     "data": {
      "text/plain": [
       "[Document(metadata={'source': 'https://github.com/cnlohr/rawdrawandroid', 'title': 'GitHub - cnlohr/rawdrawandroid: Build android apps without any java, entirely in C and Make', 'description': 'Build android apps without any java, entirely in C and Make - cnlohr/rawdrawandroid', 'language': 'en'}, page_content='GitHub - cnlohr/rawdrawandroid: Build android apps without any java, entirely in C and Make\\n\\n\\n\\n\\n\\n\\n\\n\\n\\n\\n\\n\\n\\n\\n\\n\\n\\n\\n\\n\\n\\n\\n\\n\\n\\n\\n\\n\\n\\n\\n\\n\\n\\n\\n\\n\\n\\n\\n\\n\\n\\n\\n\\n\\n\\nSkip to content\\n\\n\\n\\n\\n\\n\\n\\n\\n\\n\\n\\n\\n\\nNavigation Menu\\n\\nToggle navigation\\n\\n\\n\\n\\n \\n\\n\\n\\n\\n\\n\\n\\n\\n\\n\\n\\n\\n\\n            Sign in\\n          \\n\\n\\n\\n\\n\\n\\n\\n\\n        Product\\n        \\n\\n\\n\\n\\n\\n\\n\\n\\n\\n\\n\\n\\nActions\\n        Automate any workflow\\n      \\n\\n\\n\\n\\n\\n\\n\\nPackages\\n        Host and manage packages'),\n",
       " Document(metadata={'source': 'https://github.com/cnlohr/rawdrawandroid', 'title': 'GitHub - cnlohr/rawdrawandroid: Build android apps without any java, entirely in C and Make', 'description': 'Build android apps without any java, entirely in C and Make - cnlohr/rawdrawandroid', 'language': 'en'}, page_content='Security\\n        Find and fix vulnerabilities\\n      \\n\\n\\n\\n\\n\\n\\n\\nCodespaces\\n        Instant dev environments\\n      \\n\\n\\n\\n\\n\\n\\n\\nGitHub Copilot\\n        Write better code with AI\\n      \\n\\n\\n\\n\\n\\n\\n\\nCode review\\n        Manage code changes\\n      \\n\\n\\n\\n\\n\\n\\n\\nIssues\\n        Plan and track work\\n      \\n\\n\\n\\n\\n\\n\\n\\nDiscussions\\n        Collaborate outside of code\\n      \\n\\n\\n\\n\\nExplore\\n\\n\\n\\n      All features\\n\\n    \\n\\n\\n\\n      Documentation\\n\\n    \\n\\n\\n\\n\\n\\n      GitHub Skills\\n\\n    \\n\\n\\n\\n\\n\\n      Blog\\n\\n    \\n\\n\\n\\n\\n\\n\\n\\n\\n\\n        Solutions'),\n",
       " Document(metadata={'source': 'https://github.com/cnlohr/rawdrawandroid', 'title': 'GitHub - cnlohr/rawdrawandroid: Build android apps without any java, entirely in C and Make', 'description': 'Build android apps without any java, entirely in C and Make - cnlohr/rawdrawandroid', 'language': 'en'}, page_content='By size\\n\\n\\n\\n      Enterprise\\n\\n    \\n\\n\\n\\n      Teams\\n\\n    \\n\\n\\n\\n      Startups\\n\\n    \\n\\n\\n\\n\\nBy industry\\n\\n\\n\\n      Healthcare\\n\\n    \\n\\n\\n\\n      Financial services\\n\\n    \\n\\n\\n\\n      Manufacturing\\n\\n    \\n\\n\\n\\n\\nBy use case\\n\\n\\n\\n      CI/CD & Automation\\n\\n    \\n\\n\\n\\n      DevOps\\n\\n    \\n\\n\\n\\n      DevSecOps\\n\\n    \\n\\n\\n\\n\\n\\n\\n\\n        Resources\\n        \\n\\n\\n\\n\\n\\nTopics\\n\\n\\n\\n      AI\\n\\n    \\n\\n\\n\\n      DevOps\\n\\n    \\n\\n\\n\\n      Security\\n\\n    \\n\\n\\n\\n      Software Development\\n\\n    \\n\\n\\n\\n      View all\\n\\n    \\n\\n\\n\\n\\nExplore\\n\\n\\n\\n      Learning Pathways'),\n",
       " Document(metadata={'source': 'https://github.com/cnlohr/rawdrawandroid', 'title': 'GitHub - cnlohr/rawdrawandroid: Build android apps without any java, entirely in C and Make', 'description': 'Build android apps without any java, entirely in C and Make - cnlohr/rawdrawandroid', 'language': 'en'}, page_content='White papers, Ebooks, Webinars\\n\\n    \\n\\n\\n\\n\\n\\n      Customer Stories\\n\\n    \\n\\n\\n\\n      Partners\\n\\n    \\n\\n\\n\\n\\n\\n\\n\\n\\n\\n        Open Source\\n        \\n\\n\\n\\n\\n\\n\\n\\n\\n\\nGitHub Sponsors\\n        Fund open source developers\\n      \\n\\n\\n\\n\\n\\n\\n\\n\\nThe ReadME Project\\n        GitHub community articles\\n      \\n\\n\\n\\n\\nRepositories\\n\\n\\n\\n      Topics\\n\\n    \\n\\n\\n\\n      Trending\\n\\n    \\n\\n\\n\\n      Collections\\n\\n    \\n\\n\\n\\n\\n\\n\\n\\n        Enterprise\\n        \\n\\n\\n\\n\\n\\n\\n\\n\\n\\n\\n\\n\\nEnterprise platform\\n        AI-powered developer platform'),\n",
       " Document(metadata={'source': 'https://github.com/cnlohr/rawdrawandroid', 'title': 'GitHub - cnlohr/rawdrawandroid: Build android apps without any java, entirely in C and Make', 'description': 'Build android apps without any java, entirely in C and Make - cnlohr/rawdrawandroid', 'language': 'en'}, page_content='Available add-ons\\n\\n\\n\\n\\n\\n\\n\\nAdvanced Security\\n        Enterprise-grade security features\\n      \\n\\n\\n\\n\\n\\n\\n\\nGitHub Copilot\\n        Enterprise-grade AI features\\n      \\n\\n\\n\\n\\n\\n\\n\\nPremium Support\\n        Enterprise-grade 24/7 support\\n      \\n\\n\\n\\n\\n\\n\\nPricing\\n\\n\\n\\n\\n\\n\\n\\n\\n\\n\\n\\n\\nSearch or jump to...\\n\\n\\n\\n\\n\\n\\n\\nSearch code, repositories, users, issues, pull requests...\\n\\n \\n\\n\\n\\n\\n        Search\\n      \\n\\n\\n\\n\\n\\n\\n\\n\\n\\n\\n\\n\\n\\nClear\\n \\n\\n\\n\\n\\n\\n\\n\\n\\n\\n\\n\\n\\n\\n\\n\\n\\n\\n\\n\\n\\n\\n\\n\\n\\n\\n\\n\\n\\n\\n\\n\\n\\n\\n\\n\\n\\n\\n\\n\\n\\n\\n\\n\\n\\n\\n\\n\\n\\n \\n\\n\\n\\n\\n              Search syntax tips'),\n",
       " Document(metadata={'source': 'https://github.com/cnlohr/rawdrawandroid', 'title': 'GitHub - cnlohr/rawdrawandroid: Build android apps without any java, entirely in C and Make', 'description': 'Build android apps without any java, entirely in C and Make - cnlohr/rawdrawandroid', 'language': 'en'}, page_content='Provide feedback\\n      \\n\\n\\n\\n\\n\\n\\n\\n\\n\\n \\nWe read every piece of feedback, and take your input very seriously.\\n\\n\\nInclude my email address so I can be contacted\\n\\n\\n     Cancel\\n\\n    Submit feedback\\n\\n\\n\\n\\n\\n\\n\\n\\n\\n\\n        Saved searches\\n      \\nUse saved searches to filter your results more quickly\\n\\n\\n\\n\\n\\n\\n\\n\\n\\n \\n\\n\\n\\n\\n\\nName\\n\\n\\n\\n\\n\\n\\nQuery\\n\\n\\n\\n            To see all available qualifiers, see our documentation.\\n          \\n \\n\\n\\n\\n\\n\\n     Cancel\\n\\n    Create saved search\\n\\n\\n\\n\\n\\n\\n\\n\\n                Sign in'),\n",
       " Document(metadata={'source': 'https://github.com/cnlohr/rawdrawandroid', 'title': 'GitHub - cnlohr/rawdrawandroid: Build android apps without any java, entirely in C and Make', 'description': 'Build android apps without any java, entirely in C and Make - cnlohr/rawdrawandroid', 'language': 'en'}, page_content='Sign up\\n              \\nReseting focus\\n\\n\\n\\n\\n\\n\\n\\n\\n\\nYou signed in with another tab or window. Reload to refresh your session.\\nYou signed out in another tab or window. Reload to refresh your session.\\nYou switched accounts on another tab or window. Reload to refresh your session.\\n \\n\\n\\nDismiss alert\\n\\n\\n\\n\\n\\n\\n\\n\\n\\n\\n\\n\\n\\n\\n\\n\\n\\n\\n\\n        cnlohr\\n \\n/\\n\\nrawdrawandroid\\n\\nPublic\\n\\n\\n\\n\\n\\n \\n\\nNotifications\\n You must be signed in to change notification settings\\n\\n\\n \\n\\nFork\\n    212\\n\\n\\n\\n\\n \\n\\n\\n          Star\\n 3.3k'),\n",
       " Document(metadata={'source': 'https://github.com/cnlohr/rawdrawandroid', 'title': 'GitHub - cnlohr/rawdrawandroid: Build android apps without any java, entirely in C and Make', 'description': 'Build android apps without any java, entirely in C and Make - cnlohr/rawdrawandroid', 'language': 'en'}, page_content='Build android apps without any java, entirely in C and Make\\n      \\nLicense\\n\\n\\n\\n\\n\\n     MIT license\\n    \\n\\n\\n\\n\\n\\n\\n3.3k\\n          stars\\n \\n\\n\\n\\n212\\n          forks\\n \\n\\n\\n\\nBranches\\n \\n\\n\\n\\nTags\\n \\n\\n\\n\\nActivity\\n \\n\\n\\n\\n \\n\\n\\n          Star\\n\\n\\n\\n\\n \\n\\nNotifications\\n You must be signed in to change notification settings\\n\\n\\n\\n\\n\\n\\n\\n\\n\\n\\n\\n\\n\\nCode\\n\\n\\n\\n\\n\\n\\n\\nIssues\\n11\\n\\n\\n\\n\\n\\n\\nPull requests\\n0\\n\\n\\n\\n\\n\\n\\nActions\\n\\n\\n\\n\\n\\n\\n\\nProjects\\n0\\n\\n\\n\\n\\n\\n\\nSecurity\\n\\n\\n\\n\\n\\n\\n\\nInsights\\n\\n\\n\\n \\n\\n \\n\\n\\nAdditional navigation options\\n\\n\\n \\n\\n\\n\\n\\n\\n\\n\\n\\n\\n\\n          Code'),\n",
       " Document(metadata={'source': 'https://github.com/cnlohr/rawdrawandroid', 'title': 'GitHub - cnlohr/rawdrawandroid: Build android apps without any java, entirely in C and Make', 'description': 'Build android apps without any java, entirely in C and Make - cnlohr/rawdrawandroid', 'language': 'en'}, page_content='Issues\\n\\n\\n\\n\\n\\n\\n\\n\\n\\n\\n\\n          Pull requests\\n\\n\\n\\n\\n\\n\\n\\n\\n\\n\\n\\n          Actions\\n\\n\\n\\n\\n\\n\\n\\n\\n\\n\\n\\n          Projects\\n\\n\\n\\n\\n\\n\\n\\n\\n\\n\\n\\n          Security\\n\\n\\n\\n\\n\\n\\n\\n\\n\\n\\n\\n          Insights\\n\\n\\n\\n\\n\\n\\n \\n\\n\\n\\n\\n\\ncnlohr/rawdrawandroid\\n\\n\\n\\n\\n\\n\\n\\nThis commit does not belong to any branch on this repository, and may belong to a fork outside of the repository.'),\n",
       " Document(metadata={'source': 'https://github.com/cnlohr/rawdrawandroid', 'title': 'GitHub - cnlohr/rawdrawandroid: Build android apps without any java, entirely in C and Make', 'description': 'Build android apps without any java, entirely in C and Make - cnlohr/rawdrawandroid', 'language': 'en'}, page_content='masterBranchesTagsGo to fileCodeFolders and filesNameNameLast commit messageLast commit dateLatest commit\\xa0History217 Commits.github.github\\xa0\\xa0SourcesSources\\xa0\\xa0cnfa @ 1eaa85bcnfa @ 1eaa85b\\xa0\\xa0dockerdocker\\xa0\\xa0rawdraw @ ce81fa8rawdraw @'),\n",
       " Document(metadata={'source': 'https://github.com/cnlohr/rawdrawandroid', 'title': 'GitHub - cnlohr/rawdrawandroid: Build android apps without any java, entirely in C and Make', 'description': 'Build android apps without any java, entirely in C and Make - cnlohr/rawdrawandroid', 'language': 'en'}, page_content='ce81fa8\\xa0\\xa0.gitignore.gitignore\\xa0\\xa0.gitmodules.gitmodules\\xa0\\xa0AndroidManifest.xml.templateAndroidManifest.xml.template\\xa0\\xa0LICENSELICENSE\\xa0\\xa0MakefileMakefile\\xa0\\xa0README.mdREADME.md\\xa0\\xa0android_native_app_glue.candroid_native_app_glue.c\\xa0\\xa0android_native_app_glue.handroid_native_app_glue.h\\xa0\\xa0android_usb_devices.candroid_usb_devices.c\\xa0\\xa0android_usb_devices.handroid_usb_devices.h\\xa0\\xa0test.ctest.c\\xa0\\xa0webview_native_activity.hwebview_native_activity.h\\xa0\\xa0View all filesRepository files navigationREADMEMIT license'),\n",
       " Document(metadata={'source': 'https://github.com/cnlohr/rawdrawandroid', 'title': 'GitHub - cnlohr/rawdrawandroid: Build android apps without any java, entirely in C and Make', 'description': 'Build android apps without any java, entirely in C and Make - cnlohr/rawdrawandroid', 'language': 'en'}, page_content='Update: Works with OpenXR on Meta Quest!\\nTable of Contents'),\n",
       " Document(metadata={'source': 'https://github.com/cnlohr/rawdrawandroid', 'title': 'GitHub - cnlohr/rawdrawandroid: Build android apps without any java, entirely in C and Make', 'description': 'Build android apps without any java, entirely in C and Make - cnlohr/rawdrawandroid', 'language': 'en'}, page_content='rawdrawandroid\\nwhy?\\nDevelopment Environment\\n\\nLinux install Android Studio with NDK.\\nSteps for GUI-less install (Windows, WSL)\\n\\nExtra note for actually deploying to device in Windows\\nRest of steps\\n\\n\\n\\n\\nIf you are going to use this\\nHelper functions\\nDepartures from regular rawdraw.\\nGoogle Play'),\n",
       " Document(metadata={'source': 'https://github.com/cnlohr/rawdrawandroid', 'title': 'GitHub - cnlohr/rawdrawandroid: Build android apps without any java, entirely in C and Make', 'description': 'Build android apps without any java, entirely in C and Make - cnlohr/rawdrawandroid', 'language': 'en'}, page_content=\"Part 0: Changes to your app.\\nKeys: You will want a key for yourself that's a real key. Not the fake one.\\nLet Google create and manage my app signing key (recommended)\\nExport and upload a key and certificate from a Java keystore\\nPrepping your app for upload.\\nPre-SDK-32-Tools\\n\\n\\nTODO\"),\n",
       " Document(metadata={'source': 'https://github.com/cnlohr/rawdrawandroid', 'title': 'GitHub - cnlohr/rawdrawandroid: Build android apps without any java, entirely in C and Make', 'description': 'Build android apps without any java, entirely in C and Make - cnlohr/rawdrawandroid', 'language': 'en'}, page_content='rawdrawandroid\\nEver wanted to write C code and run it on Android?  Sick of multi-megabyte\\npackages just to do the most basic of things.  Well, this is a demo of how\\nto make your own APKs and build, install and automatically run them in about\\n2 seconds, and with an apk size of about 25kB (with API 26).  API 30 (Android R+)\\nis unfortunately at 45kB to support ARM64 + ARM32.\\nWith this framework you get a demo which has:'),\n",
       " Document(metadata={'source': 'https://github.com/cnlohr/rawdrawandroid', 'title': 'GitHub - cnlohr/rawdrawandroid: Build android apps without any java, entirely in C and Make', 'description': 'Build android apps without any java, entirely in C and Make - cnlohr/rawdrawandroid', 'language': 'en'}, page_content='To make a window with OpenGL ES support\\nAccelerometer/gyro input, multi-touch\\nAn android keyboard for key input\\nAbility to store asset files in your APK and read them with AAssetManager\\nPermissions support for using things like sound. Example in https://github.com/cnlohr/cnfa / https://github.com/cntools/cnfa/blob/d271e0196d81412032eeffa634a94a1aaf0060a7/CNFA_android.c#L305\\nDirectly access USB devices.  Example in https://github.com/cnlohr/androidusbtest'),\n",
       " Document(metadata={'source': 'https://github.com/cnlohr/rawdrawandroid', 'title': 'GitHub - cnlohr/rawdrawandroid: Build android apps without any java, entirely in C and Make', 'description': 'Build android apps without any java, entirely in C and Make - cnlohr/rawdrawandroid', 'language': 'en'}, page_content=\"DISCLAIMER: I take no warranty or responsibility for this code.  Use at your own risk.  I've never released an app on the app store, so there may be some fundamental issue with using this toolset to make commercial apps!\\nFor support, we have a Discord, but it is not public at the moment, feel free to reach out to @cnlohr on Discord, with a short message as to why you'd like to join, and he can send you an invite!\\nWhy?\"),\n",
       " Document(metadata={'source': 'https://github.com/cnlohr/rawdrawandroid', 'title': 'GitHub - cnlohr/rawdrawandroid: Build android apps without any java, entirely in C and Make', 'description': 'Build android apps without any java, entirely in C and Make - cnlohr/rawdrawandroid', 'language': 'en'}, page_content=\"Because sometimes you want to do things that don't fit into the normal way of doing it and all the discussions online revolve around doing it with all the normal processes.  And those processes change, making it difficult to keep up and do specific things.  By using Makefiles it's easy to see what exact commands are executed and add custom rules and tweak your build.  C is a universal language.  Rawdraw operates on everything from an ESP8266, to RaspberryPi, Windows Linux and now, even Android.\"),\n",
       " Document(metadata={'source': 'https://github.com/cnlohr/rawdrawandroid', 'title': 'GitHub - cnlohr/rawdrawandroid: Build android apps without any java, entirely in C and Make', 'description': 'Build android apps without any java, entirely in C and Make - cnlohr/rawdrawandroid', 'language': 'en'}, page_content='Write code once, use it everywhere.'),\n",
       " Document(metadata={'source': 'https://github.com/cnlohr/rawdrawandroid', 'title': 'GitHub - cnlohr/rawdrawandroid: Build android apps without any java, entirely in C and Make', 'description': 'Build android apps without any java, entirely in C and Make - cnlohr/rawdrawandroid', 'language': 'en'}, page_content=\"When you don't fill your build process with hills of beans, you end up being left with the parts that are important, and not the frivilous parts. This makes it easier to develop, deploy, etc, because everything takes much less time.\"),\n",
       " Document(metadata={'source': 'https://github.com/cnlohr/rawdrawandroid', 'title': 'GitHub - cnlohr/rawdrawandroid: Build android apps without any java, entirely in C and Make', 'description': 'Build android apps without any java, entirely in C and Make - cnlohr/rawdrawandroid', 'language': 'en'}, page_content='A little bit of this also has to do to stick it to all those Luddites on the internet who post \"that\\'s impossible\" or \"you\\'re doing it wrong\" to Stack Overflow questions... Requesting permissions in the JNI \"oh you have to do that in Java\" or other dumb stuff like that.  I am completely uninterested in your opinions of what is or is not possible.  This is computer science.  There aren\\'t restrictions.  I can do anything I want.  It\\'s just bits.  You don\\'t own me.'),\n",
       " Document(metadata={'source': 'https://github.com/cnlohr/rawdrawandroid', 'title': 'GitHub - cnlohr/rawdrawandroid: Build android apps without any java, entirely in C and Make', 'description': 'Build android apps without any java, entirely in C and Make - cnlohr/rawdrawandroid', 'language': 'en'}, page_content='P.S. If you want a bunch of examples of how to do a ton of things in C on Android that you \"need\" java for, scroll to the bottom of this file: https://github.com/cntools/rawdraw/blob/master/CNFGEGLDriver.c - it shows how to use the JNI to marshall a ton of stuff to/from the Android API without needing to jump back into Java/Kotlin land.\\nDevelopment Environment'),\n",
       " Document(metadata={'source': 'https://github.com/cnlohr/rawdrawandroid', 'title': 'GitHub - cnlohr/rawdrawandroid: Build android apps without any java, entirely in C and Make', 'description': 'Build android apps without any java, entirely in C and Make - cnlohr/rawdrawandroid', 'language': 'en'}, page_content=\"Most of the testing was done on Linux, however @AEFeinstein has done at least cursory testing in Windows.  You still need some components of Android studio set up to use this, so it's generally easier to just install Android studio completely, but there are instructions on sort of how to do it piecemeal for Windows.\\nLinux install Android Studio with NDK.\"),\n",
       " Document(metadata={'source': 'https://github.com/cnlohr/rawdrawandroid', 'title': 'GitHub - cnlohr/rawdrawandroid: Build android apps without any java, entirely in C and Make', 'description': 'Build android apps without any java, entirely in C and Make - cnlohr/rawdrawandroid', 'language': 'en'}, page_content=\"This set of steps describes how to install Android Studio with NDK support in Linux.  It uses the graphical installer and installs a lot more stuff than the instructions below.  You may be able to mix-and-match these two sets of instructions.  For instance if you are on Linux but don't want to sacrifice 6 GB of disk to the Googs.\\nNOTE You probably should use the WSL instructions instead of these instructions as it will produc a more lean installation.\"),\n",
       " Document(metadata={'source': 'https://github.com/cnlohr/rawdrawandroid', 'title': 'GitHub - cnlohr/rawdrawandroid: Build android apps without any java, entirely in C and Make', 'description': 'Build android apps without any java, entirely in C and Make - cnlohr/rawdrawandroid', 'language': 'en'}, page_content='Install prerequisites:\\n\\nsudo apt install openjdk-11-jdk-headless adb\\n\\n\\nDownload Android Studio: https://developer.android.com/studio\\nStart \\'studio.sh\\' in android-studio/bin\\nLet it install the SDK.\\nGo to sdkmanager (\"Configure\" button in bottom right)\\nProbably want to use Android 24, so select that from the list.\\nSelect \"SDK Tools\" -> \"NDK (Side-by-side)\"\\nDownload this repo\\n\\ngit clone https://github.com/cnlohr/rawdrawandroid --recurse-submodules\\ncd rawdrawandroid'),\n",
       " Document(metadata={'source': 'https://github.com/cnlohr/rawdrawandroid', 'title': 'GitHub - cnlohr/rawdrawandroid: Build android apps without any java, entirely in C and Make', 'description': 'Build android apps without any java, entirely in C and Make - cnlohr/rawdrawandroid', 'language': 'en'}, page_content='Turn on developer mode on your phone (will vary depending on android version)\\nMake your own key\\n\\nmake keystore\\n\\n\\nGo into developer options on your phone and enable \"USB debugging\" make sure to select always allow.\\nPlug your phone into the computer.\\nRun your program.\\n\\nmake push run'),\n",
       " Document(metadata={'source': 'https://github.com/cnlohr/rawdrawandroid', 'title': 'GitHub - cnlohr/rawdrawandroid: Build android apps without any java, entirely in C and Make', 'description': 'Build android apps without any java, entirely in C and Make - cnlohr/rawdrawandroid', 'language': 'en'}, page_content='Steps for GUI-less install (Windows, WSL)\\nIf you\\'re developing in Windows Subsystem for Linux (WSL), follow the \"Steps for GUI-less install\" to install the Android components from the command line, without any GUI components.\\nExtra note for actually deploying to device in Windows'),\n",
       " Document(metadata={'source': 'https://github.com/cnlohr/rawdrawandroid', 'title': 'GitHub - cnlohr/rawdrawandroid: Build android apps without any java, entirely in C and Make', 'description': 'Build android apps without any java, entirely in C and Make - cnlohr/rawdrawandroid', 'language': 'en'}, page_content='In order to push the APK to your phone, you need adb installed in Windows as well.  You can do that by getting the full Android Studio from https://developer.android.com/studio#downloads or directly https://dl.google.com/android/repository/platform-tools_r24.0.4-windows.zip. Installing the full Android Studio is easier, but you can also get the \"Command line tools only\" and install adb from there.  The steps below outline how to do this with the direct link.\\nRest of steps'),\n",
       " Document(metadata={'source': 'https://github.com/cnlohr/rawdrawandroid', 'title': 'GitHub - cnlohr/rawdrawandroid: Build android apps without any java, entirely in C and Make', 'description': 'Build android apps without any java, entirely in C and Make - cnlohr/rawdrawandroid', 'language': 'en'}, page_content='Install Windows Subsystem for Linux (WSL).  You can find instructions here: https://docs.microsoft.com/en-us/windows/wsl/install-win10 - we use \"Ubuntu\" for this.\\n\\n\\nInstall prerequisites:\\n\\n\\nsudo apt install openjdk-17-jdk-headless adb unzip zip'),\n",
       " Document(metadata={'source': 'https://github.com/cnlohr/rawdrawandroid', 'title': 'GitHub - cnlohr/rawdrawandroid: Build android apps without any java, entirely in C and Make', 'description': 'Build android apps without any java, entirely in C and Make - cnlohr/rawdrawandroid', 'language': 'en'}, page_content='Download \"Command line tools only\": https://developer.android.com/studio#downloads - you can get a URL and use wget in WSL to download the tools by clicking on the \"Linux\" toolset, then right-clicking on the accept link and saying copy link to location.  Then you can say wget <link> in WSL.\\nCreate a folder for the Android SDK and export it. You may want to add that export to your ~/.bashrc:'),\n",
       " Document(metadata={'source': 'https://github.com/cnlohr/rawdrawandroid', 'title': 'GitHub - cnlohr/rawdrawandroid: Build android apps without any java, entirely in C and Make', 'description': 'Build android apps without any java, entirely in C and Make - cnlohr/rawdrawandroid', 'language': 'en'}, page_content='mkdir ~/android-sdk\\nexport ANDROID_HOME=~/android-sdk\\nprintf \"\\\\nexport ANDROID_HOME=~/android-sdk\\\\n\" >> ~/.bashrc\\n\\n\\nUnzip the \"Command line tools only\" file so that tools is in your brand new android-sdk folder.\\nInstall the SDK and NDK components:'),\n",
       " Document(metadata={'source': 'https://github.com/cnlohr/rawdrawandroid', 'title': 'GitHub - cnlohr/rawdrawandroid: Build android apps without any java, entirely in C and Make', 'description': 'Build android apps without any java, entirely in C and Make - cnlohr/rawdrawandroid', 'language': 'en'}, page_content='For earler versions of tools see note for pre-SDK-32-Tools.\\nIf your platform command-line tools are 30, the command-line tools will be placed in the cmdline-tools folder. So, you will need to execute the following:\\nyes | $ANDROID_HOME/cmdline-tools/bin/sdkmanager --sdk_root=${ANDROID_HOME} --licenses\\n$ANDROID_HOME/cmdline-tools/bin/sdkmanager --sdk_root=${ANDROID_HOME} \"build-tools;30.0.2\" \"cmake;3.10.2.4988404\" \"ndk;21.3.6528147\" \"platform-tools\" \"platforms;android-30\" \"tools\"'),\n",
       " Document(metadata={'source': 'https://github.com/cnlohr/rawdrawandroid', 'title': 'GitHub - cnlohr/rawdrawandroid: Build android apps without any java, entirely in C and Make', 'description': 'Build android apps without any java, entirely in C and Make - cnlohr/rawdrawandroid', 'language': 'en'}, page_content='If you want to target Android 34 (not recommended in 2024, for device compatibility, you will need to execute the following):\\nyes | $ANDROID_HOME/cmdline-tools/bin/sdkmanager --sdk_root=${ANDROID_HOME} --licenses\\n$ANDROID_HOME/cmdline-tools/bin/sdkmanager --sdk_root=${ANDROID_HOME} \"build-tools;34.0.0\" \"ndk;26.2.11394342\" \"platform-tools\" \"platforms;android-34\" \"tools\" \"cmake;3.10.2.4988404\"'),\n",
       " Document(metadata={'source': 'https://github.com/cnlohr/rawdrawandroid', 'title': 'GitHub - cnlohr/rawdrawandroid: Build android apps without any java, entirely in C and Make', 'description': 'Build android apps without any java, entirely in C and Make - cnlohr/rawdrawandroid', 'language': 'en'}, page_content='NOTE If you are upgrading NDK versions, you may need to remove old versions, this Makefile does not necessarily do the best job at auto-selecting NDK versions.\\nYou can see all avialable versions of software with this command:\\n$ANDROID_HOME/cmdline-tools/bin/sdkmanager --list --sdk_root=${ANDROID_HOME}\\n\\n\\nInstall the Windows ADB toolset.'),\n",
       " Document(metadata={'source': 'https://github.com/cnlohr/rawdrawandroid', 'title': 'GitHub - cnlohr/rawdrawandroid: Build android apps without any java, entirely in C and Make', 'description': 'Build android apps without any java, entirely in C and Make - cnlohr/rawdrawandroid', 'language': 'en'}, page_content='mkdir -p $ANDROID_HOME/windows\\ncd $ANDROID_HOME/windows\\nwget https://dl.google.com/android/repository/platform-tools_r24.0.4-windows.zip\\nunzip platform-tools_r24.0.4-windows.zip\\nexport ADB=$ANDROID_HOME/windows/platform-tools/adb.exe\\nprintf \"\\\\nexport ADB=$ANDROID_HOME/windows/platform-tools/adb.exe\\\\n\" >> ~/.bashrc\\n\\nAlternatively, you may want to use https://dl.google.com/android/repository/platform-tools_r30.0.5-windows.zip for r30.'),\n",
       " Document(metadata={'source': 'https://github.com/cnlohr/rawdrawandroid', 'title': 'GitHub - cnlohr/rawdrawandroid: Build android apps without any java, entirely in C and Make', 'description': 'Build android apps without any java, entirely in C and Make - cnlohr/rawdrawandroid', 'language': 'en'}, page_content='NOTE: because of updates to environment variables, you may want to close and re-open your WSL terminal.\\nDownload this repo\\n\\ngit clone https://github.com/cnlohr/rawdrawandroid --recurse-submodules\\ncd rawdrawandroid\\n\\n\\nTurn on developer mode on your phone (will vary depending on android version)\\nGo into developer options on your phone and enable \"USB debugging\" make sure to select always allow.\\nPlug your phone into the computer.\\nMake your keystore.\\n\\nmake keystore\\n\\n\\nCompile and run your program.'),\n",
       " Document(metadata={'source': 'https://github.com/cnlohr/rawdrawandroid', 'title': 'GitHub - cnlohr/rawdrawandroid: Build android apps without any java, entirely in C and Make', 'description': 'Build android apps without any java, entirely in C and Make - cnlohr/rawdrawandroid', 'language': 'en'}, page_content='make run\\n\\nIf you are going to use this\\n\\n\\nCheck out the example here: https://github.com/cnlohr/rawdrawandroidexample\\n\\n\\nYou may want to copy-and-paste this project, but, you could probably use it as a submodule.  You may also want to copy-and-paste the submodule.\\n\\n\\nYou MUST override the app name.'),\n",
       " Document(metadata={'source': 'https://github.com/cnlohr/rawdrawandroid', 'title': 'GitHub - cnlohr/rawdrawandroid: Build android apps without any java, entirely in C and Make', 'description': 'Build android apps without any java, entirely in C and Make - cnlohr/rawdrawandroid', 'language': 'en'}, page_content=\"See in Makefile APPNAME and PACKAGENAME you should be able to include this project's makefile and override that.\\nYou must also update AndroidManifest.xml with whatever name and org you plan to use.\\nYou will need to update: package in <manifest> to be your PACKAGENAME variable in Makefile.\\nBoth android:label labels need to reflect your new app name.  They are in your <application> and <activity> sections.\\nUpdate the android:value field in android.app.lib_name\"),\n",
       " Document(metadata={'source': 'https://github.com/cnlohr/rawdrawandroid', 'title': 'GitHub - cnlohr/rawdrawandroid: Build android apps without any java, entirely in C and Make', 'description': 'Build android apps without any java, entirely in C and Make - cnlohr/rawdrawandroid', 'language': 'en'}, page_content='If you are using permission you have to prompt for, you must both add it to your AndroidManifest.xml as well as check if you have it, and if not, prompt the user.  See helper functions below.  You can see an example of this with sound_android.c from ColorChord.  https://github.com/cnlohr/colorchord/blob/master/colorchord2/sound_android.c'),\n",
       " Document(metadata={'source': 'https://github.com/cnlohr/rawdrawandroid', 'title': 'GitHub - cnlohr/rawdrawandroid: Build android apps without any java, entirely in C and Make', 'description': 'Build android apps without any java, entirely in C and Make - cnlohr/rawdrawandroid', 'language': 'en'}, page_content='Be sure to uninstall any previously installed apps which would look like this app, if you have a different build by the same name signed with another key, bad things will happen.\\n\\n\\nYou can see your log with:\\n\\n\\nadb logcat\\n\\n\\nIf your app opens and closes instantly, try seeing if there are any missing symbols:\\n\\nadb logcat | grep UnsatisfiedLinkError'),\n",
       " Document(metadata={'source': 'https://github.com/cnlohr/rawdrawandroid', 'title': 'GitHub - cnlohr/rawdrawandroid: Build android apps without any java, entirely in C and Make', 'description': 'Build android apps without any java, entirely in C and Make - cnlohr/rawdrawandroid', 'language': 'en'}, page_content=\"Helper functions\\nBecause we are doing this entirelly in the NDK, with the JNI, we won't have the luxury of writing any Java/Kotlin code and calling it.  That means all of the examples online have to be heavily marshalled.  In rawdraw's EGL driver, we have many examples of how to do that.  That said, you can use the following functions which get you most of the way there.\\nstruct android_app * gapp;\\nint AndroidHasPermissions(const char* perm_name);\"),\n",
       " Document(metadata={'source': 'https://github.com/cnlohr/rawdrawandroid', 'title': 'GitHub - cnlohr/rawdrawandroid: Build android apps without any java, entirely in C and Make', 'description': 'Build android apps without any java, entirely in C and Make - cnlohr/rawdrawandroid', 'language': 'en'}, page_content='void AndroidRequestAppPermissions(const char * perm);\\nvoid AndroidDisplayKeyboard(int pShow);\\nint AndroidGetUnicodeChar( int keyCode, int metaState );\\nint android_width, android_height;\\nextern int android_sdk_version; //Derived at start from property ro.build.version.sdk\\nDepartures from regular rawdraw.\\nAlso, above and beyond rawdraw, you must implement the following two functions to handle when your apps is suspended, resumed or has its window terminated.\\nvoid HandleResume();'),\n",
       " Document(metadata={'source': 'https://github.com/cnlohr/rawdrawandroid', 'title': 'GitHub - cnlohr/rawdrawandroid: Build android apps without any java, entirely in C and Make', 'description': 'Build android apps without any java, entirely in C and Make - cnlohr/rawdrawandroid', 'language': 'en'}, page_content='void HandleSuspend();\\nvoid HandleWindowTermination();\\nIn addition to that, the syntax of HandleMotion(...) is different, in that instead of the mask variable being a mask, it is simply updating that specific pointer.\\nGoogle Play\\nAs it turns out, Google somehow lets apps built with this onto the store.  Like ColorChord https://github.com/cnlohr/colorchord.\\nPart 0: Changes to your app.'),\n",
       " Document(metadata={'source': 'https://github.com/cnlohr/rawdrawandroid', 'title': 'GitHub - cnlohr/rawdrawandroid: Build android apps without any java, entirely in C and Make', 'description': 'Build android apps without any java, entirely in C and Make - cnlohr/rawdrawandroid', 'language': 'en'}, page_content='Make sure you are using the newest SDK.\\nYou will need to add a versionCode to your AndroidManifest.xml.  In your AndroidManifest.xml, add android:versionCode=\"integer\" to the tag where \"integer\" is a version number.\\nIn your AndroidManifest.xml, change android:debuggable to false.'),\n",
       " Document(metadata={'source': 'https://github.com/cnlohr/rawdrawandroid', 'title': 'GitHub - cnlohr/rawdrawandroid: Build android apps without any java, entirely in C and Make', 'description': 'Build android apps without any java, entirely in C and Make - cnlohr/rawdrawandroid', 'language': 'en'}, page_content='You may want to support multiple platforms natively.  Add the following to your Makefile: TARGETS:=makecapk/lib/arm64-v8a/lib$(APPNAME).so makecapk/lib/armeabi-v7a/lib$(APPNAME).so makecapk/lib/x86/lib$(APPNAME).so makecapk/lib/x86_64/lib$(APPNAME).so\\nYou will need to specify target and Min SDK in your AndroidManifest.xml  See: <uses-sdk android:minSdkVersion=\"22\" android:targetSdkVersion=\"28\" />'),\n",
       " Document(metadata={'source': 'https://github.com/cnlohr/rawdrawandroid', 'title': 'GitHub - cnlohr/rawdrawandroid: Build android apps without any java, entirely in C and Make', 'description': 'Build android apps without any java, entirely in C and Make - cnlohr/rawdrawandroid', 'language': 'en'}, page_content='Those target / min versions must match your Makefile.  Note that without a minSdkVerson google will wrongfully assume 1.  This is dangerous.  Be sure to test your app on a device with whichever minSdkVersion you\\'ve specified.\\nYou will need to disable the debuggable flag in your app.  See <application android:debuggable=\"false\" ...>'),\n",
       " Document(metadata={'source': 'https://github.com/cnlohr/rawdrawandroid', 'title': 'GitHub - cnlohr/rawdrawandroid: Build android apps without any java, entirely in C and Make', 'description': 'Build android apps without any java, entirely in C and Make - cnlohr/rawdrawandroid', 'language': 'en'}, page_content=\"Get a google play account.  Details surrounding app creation are outside the scope of this readme.  When getting ready to upload your APK.\\nKeys:  You will want a key for yourself that's a real key.  Not the fake one.\\nFirst you will need to make a real key.  This can be accomplished by deleting our fake key my-release-key.keystore and executing the following command (being careful to fill #### in with real info):\"),\n",
       " Document(metadata={'source': 'https://github.com/cnlohr/rawdrawandroid', 'title': 'GitHub - cnlohr/rawdrawandroid: Build android apps without any java, entirely in C and Make', 'description': 'Build android apps without any java, entirely in C and Make - cnlohr/rawdrawandroid', 'language': 'en'}, page_content='make keystore STOREPASS=#### DNAME=\"\\\\\"CN=####, OU=ID, O=####, L=####, S=####, C=####\\\\\"\" ALIASNAME=####\\nThe alias name will be standkey. You will want to verify you can build your app with this key.  Be sure to fill in STOREPASS the same.\\nmake clean run  STOREPASS=####\\nLet Google create and manage my app signing key (recommended)\\nExport and upload a key and certificate from a Java keystore'),\n",
       " Document(metadata={'source': 'https://github.com/cnlohr/rawdrawandroid', 'title': 'GitHub - cnlohr/rawdrawandroid: Build android apps without any java, entirely in C and Make', 'description': 'Build android apps without any java, entirely in C and Make - cnlohr/rawdrawandroid', 'language': 'en'}, page_content='If you want to use the play store key with \"Export and upload a key and certificate from a Java keystore\" Instead of Let Google create and manage my app signing key (recommended) and follow PEKP instructions.\\nPrepping your app for upload.\\nYou MUST have aligned ZIPs for the Play store.  You must run the following command:\\nzipalign -c -v 8 makecapk.apk\\nUpload your APK makecapk.apk made with your key.\\nPre-SDK-32-Tools\\nIf you are using Android 29 or older, do this.'),\n",
       " Document(metadata={'source': 'https://github.com/cnlohr/rawdrawandroid', 'title': 'GitHub - cnlohr/rawdrawandroid: Build android apps without any java, entirely in C and Make', 'description': 'Build android apps without any java, entirely in C and Make - cnlohr/rawdrawandroid', 'language': 'en'}, page_content='yes | $ANDROID_HOME/tools/bin/sdkmanager --sdk_root=${ANDROID_HOME} --licenses\\n$ANDROID_HOME/tools/bin/sdkmanager --sdk_root=${ANDROID_HOME} \"build-tools;29.0.3\" \"cmake;3.10.2.4988404\" \"ndk;21.1.6352462\" \"patcher;v4\" \"platform-tools\" \"platforms;android-30\" \"tools\"'),\n",
       " Document(metadata={'source': 'https://github.com/cnlohr/rawdrawandroid', 'title': 'GitHub - cnlohr/rawdrawandroid: Build android apps without any java, entirely in C and Make', 'description': 'Build android apps without any java, entirely in C and Make - cnlohr/rawdrawandroid', 'language': 'en'}, page_content='If your platform command-line tools are 30, the command-line tools will be placed in the cmdline-tools folder. So, you will need to execute the following:\\nyes | $ANDROID_HOME/cmdline-tools/bin/sdkmanager --sdk_root=${ANDROID_HOME} --licenses\\n$ANDROID_HOME/cmdline-tools/bin/sdkmanager --sdk_root=${ANDROID_HOME} \"build-tools;30.0.2\" \"cmake;3.10.2.4988404\" \"ndk;21.3.6528147\" \"patcher;v4\" \"platform-tools\" \"platforms;android-30\" \"tools\"'),\n",
       " Document(metadata={'source': 'https://github.com/cnlohr/rawdrawandroid', 'title': 'GitHub - cnlohr/rawdrawandroid: Build android apps without any java, entirely in C and Make', 'description': 'Build android apps without any java, entirely in C and Make - cnlohr/rawdrawandroid', 'language': 'en'}, page_content='If your platform command-line tools are 32, the command-line tools will be placed in the cmdline-tools folder. So, you will need to execute the following (This appears to be backwards compatbile to some degree with Android 30):\\nyes | $ANDROID_HOME/cmdline-tools/bin/sdkmanager --sdk_root=${ANDROID_HOME} --licenses'),\n",
       " Document(metadata={'source': 'https://github.com/cnlohr/rawdrawandroid', 'title': 'GitHub - cnlohr/rawdrawandroid: Build android apps without any java, entirely in C and Make', 'description': 'Build android apps without any java, entirely in C and Make - cnlohr/rawdrawandroid', 'language': 'en'}, page_content='$ANDROID_HOME/cmdline-tools/bin/sdkmanager --sdk_root=${ANDROID_HOME} \"build-tools;32.0.0\" \"cmake;3.22.1\" \"ndk;25.1.8937393\" \"platforms;android-32\" \"patcher;v4\" \"platform-tools\" \"tools\"'),\n",
       " Document(metadata={'source': 'https://github.com/cnlohr/rawdrawandroid', 'title': 'GitHub - cnlohr/rawdrawandroid: Build android apps without any java, entirely in C and Make', 'description': 'Build android apps without any java, entirely in C and Make - cnlohr/rawdrawandroid', 'language': 'en'}, page_content='TODO\\nTry a bunch of these cool priveleges, see what they all do.'),\n",
       " Document(metadata={'source': 'https://github.com/cnlohr/rawdrawandroid', 'title': 'GitHub - cnlohr/rawdrawandroid: Build android apps without any java, entirely in C and Make', 'description': 'Build android apps without any java, entirely in C and Make - cnlohr/rawdrawandroid', 'language': 'en'}, page_content='permission.ACCESS\\npermission.INTERNET\\npermission.HIDE_NON_SYSTEM_OVERLAY_WINDOWS\\npermission.ACCESS_NETWORK_STATE\\npermission.WRITE_EXTERNAL_STORAGE\\npermission.READ_PHONE_STATE\\npermission.GET_TASKS\\npermission.REORDER_TASKS\\npermission.WRITE_APN_SETTINGS\\npermission.READ_SECURE_SETTINGS\\npermission.READ_SETTINGS\\npermission.REAL_GET_TASKS\\npermission.INTERACT_ACROSS_USERS\\npermission.MANAGE_USERS\\npermission.INSTALL_PACKAGES\\npermission.DELETE_PACKAGES\\npermission.INTERACT_ACROSS_USERS_FULL'),\n",
       " Document(metadata={'source': 'https://github.com/cnlohr/rawdrawandroid', 'title': 'GitHub - cnlohr/rawdrawandroid: Build android apps without any java, entirely in C and Make', 'description': 'Build android apps without any java, entirely in C and Make - cnlohr/rawdrawandroid', 'language': 'en'}, page_content='permission.READ_MEDIA_STORAGE\\npermission.WRITE_MEDIA_STORAGE\\nandroid.permission.VR\\nandroid.permission.INSTALL_PACKAGES'),\n",
       " Document(metadata={'source': 'https://github.com/cnlohr/rawdrawandroid', 'title': 'GitHub - cnlohr/rawdrawandroid: Build android apps without any java, entirely in C and Make', 'description': 'Build android apps without any java, entirely in C and Make - cnlohr/rawdrawandroid', 'language': 'en'}, page_content='About\\n\\n        Build android apps without any java, entirely in C and Make\\n      \\nResources\\n\\n\\n\\n\\n\\n        Readme\\n \\nLicense\\n\\n\\n\\n\\n\\n     MIT license\\n    \\n\\n\\n\\n\\n\\n\\n\\n\\nActivity\\n \\nStars\\n\\n\\n\\n\\n\\n3.3k\\n      stars\\n \\nWatchers\\n\\n\\n\\n\\n\\n88\\n      watching\\n \\nForks\\n\\n\\n\\n\\n\\n212\\n      forks\\n \\n\\n\\n          Report repository\\n \\n\\n\\n\\n\\n\\n\\n\\n    Releases\\n\\nNo releases published\\n\\n\\n\\n\\n\\n\\n    Packages\\n      0\\n\\n\\n        No packages published \\n\\n\\n\\n\\n\\n\\n\\n\\n\\n\\n\\n\\n\\n    Contributors\\n      20'),\n",
       " Document(metadata={'source': 'https://github.com/cnlohr/rawdrawandroid', 'title': 'GitHub - cnlohr/rawdrawandroid: Build android apps without any java, entirely in C and Make', 'description': 'Build android apps without any java, entirely in C and Make - cnlohr/rawdrawandroid', 'language': 'en'}, page_content='+ 6 contributors\\n\\n\\n\\n\\n\\nLanguages\\n\\n\\n\\n\\n\\n\\n\\n\\n\\n\\n\\n\\n\\n\\nC\\n85.8%\\n\\n\\n\\n\\n\\n\\n\\nMakefile\\n8.8%\\n\\n\\n\\n\\n\\n\\n\\nPowerShell\\n3.3%\\n\\n\\n\\n\\n\\n\\n\\nDockerfile\\n1.4%\\n\\n\\n\\n\\n\\n\\n\\nOther\\n0.7%\\n\\n\\n\\n\\n\\n\\n\\n\\n\\n\\n\\n\\n\\n\\n\\nFooter\\n\\n\\n\\n\\n\\n\\n\\n\\n        © 2024 GitHub,\\xa0Inc.\\n      \\n\\n\\nFooter navigation\\n\\n\\nTerms\\n\\n\\nPrivacy\\n\\n\\nSecurity\\n\\n\\nStatus\\n\\n\\nDocs\\n\\n\\nContact\\n\\n\\n\\n\\n      Manage cookies\\n    \\n\\n\\n\\n\\n\\n      Do not share my personal information\\n    \\n\\n\\n\\n\\n\\n\\n\\n\\n\\n\\n\\n\\n\\n\\n\\n\\n    You can’t perform that action at this time.')]"
      ]
     },
     "execution_count": 4,
     "metadata": {},
     "output_type": "execute_result"
    }
   ],
   "source": [
    "all_splits"
   ]
  },
  {
   "cell_type": "code",
   "execution_count": 5,
   "metadata": {},
   "outputs": [],
   "source": [
    "from langchain_community.llms import Ollama\n",
    "from langchain import PromptTemplate\n",
    "\n",
    "model = Ollama(model='gemma2:2b', stop=[\"<|eot_id|>\"]) # Added the stop token"
   ]
  },
  {
   "cell_type": "code",
   "execution_count": 6,
   "metadata": {},
   "outputs": [],
   "source": [
    "user_prompt = \"Summarize the content and explain in detail by korean.\"\n",
    "\n",
    "system_prompt = \"\"\"Think and write your step-by-step reasoning before responding.\n",
    "Make sure you don't deviate from json grammar.\n",
    "Please write all conversations in Korean(한국어).\n",
    "\"\"\""
   ]
  },
  {
   "cell_type": "code",
   "execution_count": 7,
   "metadata": {},
   "outputs": [
    {
     "name": "stderr",
     "output_type": "stream",
     "text": [
      "/tmp/ipykernel_34388/2986656654.py:4: LangChainDeprecationWarning: The class `HuggingFaceEmbeddings` was deprecated in LangChain 0.2.2 and will be removed in 1.0. An updated version of the class exists in the langchain-huggingface package and should be used instead. To use it run `pip install -U langchain-huggingface` and import as `from langchain_huggingface import HuggingFaceEmbeddings`.\n",
      "  embeddings = SentenceTransformerEmbeddings(model_name=\"all-MiniLM-L6-v2\")\n",
      "/home/kar/Projects/News_Summary/venv/lib/python3.12/site-packages/sentence_transformers/cross_encoder/CrossEncoder.py:13: TqdmWarning: IProgress not found. Please update jupyter and ipywidgets. See https://ipywidgets.readthedocs.io/en/stable/user_install.html\n",
      "  from tqdm.autonotebook import tqdm, trange\n",
      "/home/kar/Projects/News_Summary/venv/lib/python3.12/site-packages/transformers/tokenization_utils_base.py:1601: FutureWarning: `clean_up_tokenization_spaces` was not set. It will be set to `True` by default. This behavior will be depracted in transformers v4.45, and will be then set to `False` by default. For more details check this issue: https://github.com/huggingface/transformers/issues/31884\n",
      "  warnings.warn(\n"
     ]
    }
   ],
   "source": [
    "from langchain.vectorstores import Chroma\n",
    "from langchain.embeddings import SentenceTransformerEmbeddings\n",
    "\n",
    "embeddings = SentenceTransformerEmbeddings(model_name=\"all-MiniLM-L6-v2\")\n",
    "vectorstore = Chroma.from_documents(documents=all_splits, embedding=embeddings)\n",
    "docs = vectorstore.similarity_search(user_prompt)"
   ]
  },
  {
   "cell_type": "code",
   "execution_count": 8,
   "metadata": {},
   "outputs": [
    {
     "name": "stderr",
     "output_type": "stream",
     "text": [
      "/tmp/ipykernel_34388/2901870035.py:22: LangChainDeprecationWarning: The method `Chain.__call__` was deprecated in langchain 0.1.0 and will be removed in 1.0. Use invoke instead.\n",
      "  response = qachain(prompt.format(system_prompt=system_prompt, user_prompt=user_prompt))\n"
     ]
    }
   ],
   "source": [
    "# NOTE: No f-string and no whitespace in curly braces.\n",
    "template = \"\"\"\n",
    "    <|begin_of_text|>\n",
    "    <|start_header_id|>system<|end_header_id|>\n",
    "    {system_prompt}\n",
    "    <|eot_id|>\n",
    "    <|start_header_id|>user<|end_header_id|>\n",
    "    {user_prompt}\n",
    "    <|eot_id|>\n",
    "    <|start_header_id|>assistant<|end_header_id|>\n",
    "\"\"\"\n",
    "\n",
    "prompt = PromptTemplate(\n",
    "    input_variables=['system_prompt', 'user_prompt'],\n",
    "    template=template\n",
    ")\n",
    "\n",
    "from langchain.chains import RetrievalQA\n",
    "\n",
    "qachain = RetrievalQA.from_chain_type(model, retriever=vectorstore.as_retriever())\n",
    "\n",
    "response = qachain(prompt.format(system_prompt=system_prompt, user_prompt=user_prompt))"
   ]
  },
  {
   "cell_type": "code",
   "execution_count": 9,
   "metadata": {},
   "outputs": [
    {
     "data": {
      "text/plain": [
       "{'query': \"\\n    <|begin_of_text|>\\n    <|start_header_id|>system<|end_header_id|>\\n    Think and write your step-by-step reasoning before responding.\\nMake sure you don't deviate from json grammar.\\nPlease write all conversations in Korean(한국어).\\n\\n    <|eot_id|>\\n    <|start_header_id|>user<|end_header_id|>\\n    Summarize the content and explain in detail by korean.\\n    <|eot_id|>\\n    <|start_header_id|>assistant<|end_header_id|>\\n\",\n",
       " 'result': '본 문서는 \"rawdrawandroid\"라는 Android 애플리케이션을 개발하는 방법에 대한 설명입니다.  이 애플리케이션은 컴퓨터에서 직접 C와 Make를 사용하여 Java 및 Kotlin 코드 없이 만드는 방식으로 작성됩니다.\\n\\n**1단계: 환경 설정:**\\n- WSL (Windows Subsystem for Linux) 에서 GitHub repo를 clone하고 CD합니다. \\n- Android 기기에서 개발자 모드를 활성화합니다. (Android 버전에 따라 조정 필요).\\n- 사용자가 기기를 연결해줘야 합니다.\\n\\n**2단계: 키를 만들어보세요:**\\n  - `make keystore` 명령어를 실행하여 키셋을 생성합니다. \\n\\n\\n**3단계: 프로그램 실행:**\\n  - 앱을 compile하고 실행합니다.\\n\\n\\n**핵심 내용:** \\n  * **NDK**: Native Development Kit (Native Programming) 활용. \\n  * **JNI**: Java Native Interface (Java와 C/C++ 코드를 통합)\\n  * **\"rawdrawandroid\"**:  C와 Make로 만든 Android 애플리케이션\\n\\n**결론:** \\n본 문서는 \\'rawdrawandroid\\' 개발의 단계별 가이드라인을 제공합니다.  NDK와 JNI를 사용하여 C 코드만으로도 Android 애플리케이션을 개발하는 방법을 보여줍니다. \\n\\n\\n\\n'}"
      ]
     },
     "execution_count": 9,
     "metadata": {},
     "output_type": "execute_result"
    }
   ],
   "source": [
    "response"
   ]
  },
  {
   "cell_type": "code",
   "execution_count": 10,
   "metadata": {},
   "outputs": [
    {
     "name": "stdout",
     "output_type": "stream",
     "text": [
      "본 문서는 \"rawdrawandroid\"라는 Android 애플리케이션을 개발하는 방법에 대한 설명입니다.  이 애플리케이션은 컴퓨터에서 직접 C와 Make를 사용하여 Java 및 Kotlin 코드 없이 만드는 방식으로 작성됩니다.\n",
      "\n",
      "**1단계: 환경 설정:**\n",
      "- WSL (Windows Subsystem for Linux) 에서 GitHub repo를 clone하고 CD합니다. \n",
      "- Android 기기에서 개발자 모드를 활성화합니다. (Android 버전에 따라 조정 필요).\n",
      "- 사용자가 기기를 연결해줘야 합니다.\n",
      "\n",
      "**2단계: 키를 만들어보세요:**\n",
      "  - `make keystore` 명령어를 실행하여 키셋을 생성합니다. \n",
      "\n",
      "\n",
      "**3단계: 프로그램 실행:**\n",
      "  - 앱을 compile하고 실행합니다.\n",
      "\n",
      "\n",
      "**핵심 내용:** \n",
      "  * **NDK**: Native Development Kit (Native Programming) 활용. \n",
      "  * **JNI**: Java Native Interface (Java와 C/C++ 코드를 통합)\n",
      "  * **\"rawdrawandroid\"**:  C와 Make로 만든 Android 애플리케이션\n",
      "\n",
      "**결론:** \n",
      "본 문서는 'rawdrawandroid' 개발의 단계별 가이드라인을 제공합니다.  NDK와 JNI를 사용하여 C 코드만으로도 Android 애플리케이션을 개발하는 방법을 보여줍니다. \n",
      "\n",
      "\n",
      "\n",
      "\n"
     ]
    }
   ],
   "source": [
    "print(response['result'])"
   ]
  }
 ],
 "metadata": {
  "kernelspec": {
   "display_name": "venv",
   "language": "python",
   "name": "python3"
  },
  "language_info": {
   "codemirror_mode": {
    "name": "ipython",
    "version": 3
   },
   "file_extension": ".py",
   "mimetype": "text/x-python",
   "name": "python",
   "nbconvert_exporter": "python",
   "pygments_lexer": "ipython3",
   "version": "3.12.6"
  }
 },
 "nbformat": 4,
 "nbformat_minor": 2
}
