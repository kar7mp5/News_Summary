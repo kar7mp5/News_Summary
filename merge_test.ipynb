{
 "cells": [
  {
   "cell_type": "code",
   "execution_count": 1,
   "metadata": {},
   "outputs": [
    {
     "data": {
      "text/html": [
       "<div>\n",
       "<style scoped>\n",
       "    .dataframe tbody tr th:only-of-type {\n",
       "        vertical-align: middle;\n",
       "    }\n",
       "\n",
       "    .dataframe tbody tr th {\n",
       "        vertical-align: top;\n",
       "    }\n",
       "\n",
       "    .dataframe thead th {\n",
       "        text-align: right;\n",
       "    }\n",
       "</style>\n",
       "<table border=\"1\" class=\"dataframe\">\n",
       "  <thead>\n",
       "    <tr style=\"text-align: right;\">\n",
       "      <th></th>\n",
       "      <th>title</th>\n",
       "      <th>points</th>\n",
       "      <th>link</th>\n",
       "    </tr>\n",
       "  </thead>\n",
       "  <tbody>\n",
       "    <tr>\n",
       "      <th>0</th>\n",
       "      <td>Forbes Marketplace - 숙주를 먹어치우려는 기생 SEO 회사의 진실 ...</td>\n",
       "      <td>4</td>\n",
       "      <td>https://larslofgren.com/forbes-marketplace/</td>\n",
       "    </tr>\n",
       "    <tr>\n",
       "      <th>1</th>\n",
       "      <td>EU, 아이폰에 IOS 타사 개방 요구 (news.naver.com)</td>\n",
       "      <td>3</td>\n",
       "      <td>https://news.naver.com/mnews/article/029/00029...</td>\n",
       "    </tr>\n",
       "    <tr>\n",
       "      <th>2</th>\n",
       "      <td>GN⁺: 닌텐도, Palworld 개발사 PocketPair 상대로 특허권 침해 소...</td>\n",
       "      <td>1</td>\n",
       "      <td>https://www.nintendo.co.jp/corporate/release/e...</td>\n",
       "    </tr>\n",
       "    <tr>\n",
       "      <th>3</th>\n",
       "      <td>GN⁺: Scramble - Grammarly 대체 오픈소스  (github.com...</td>\n",
       "      <td>7</td>\n",
       "      <td>https://github.com/zlwaterfield/scramble</td>\n",
       "    </tr>\n",
       "    <tr>\n",
       "      <th>4</th>\n",
       "      <td>Oracle, 이제 JavaScript를 놓아줘야 할 때입니다. (javascrip...</td>\n",
       "      <td>14</td>\n",
       "      <td>https://javascript.tm/</td>\n",
       "    </tr>\n",
       "    <tr>\n",
       "      <th>5</th>\n",
       "      <td>Safari 18.0의 WebKit 기능들 (webkit.org)</td>\n",
       "      <td>4</td>\n",
       "      <td>https://webkit.org/blog/15865/webkit-features-...</td>\n",
       "    </tr>\n",
       "    <tr>\n",
       "      <th>6</th>\n",
       "      <td>GN⁺: 책을 쓰지 말아야 하는 이유 (gwern.net)</td>\n",
       "      <td>12</td>\n",
       "      <td>https://gwern.net/book-writing</td>\n",
       "    </tr>\n",
       "    <tr>\n",
       "      <th>7</th>\n",
       "      <td>GN⁺: MrBeast의 프로덕션 성공 비법 (유출된 PDF) (simonwilli...</td>\n",
       "      <td>34</td>\n",
       "      <td>https://simonwillison.net/2024/Sep/15/how-to-s...</td>\n",
       "    </tr>\n",
       "    <tr>\n",
       "      <th>8</th>\n",
       "      <td>The HTTP Query Method (ietf.org)</td>\n",
       "      <td>11</td>\n",
       "      <td>https://www.ietf.org/archive/id/draft-ietf-htt...</td>\n",
       "    </tr>\n",
       "    <tr>\n",
       "      <th>9</th>\n",
       "      <td>애플, iOS 18 출시 (apple.com)</td>\n",
       "      <td>4</td>\n",
       "      <td>https://www.apple.com/kr/newsroom/2024/09/ios-...</td>\n",
       "    </tr>\n",
       "    <tr>\n",
       "      <th>10</th>\n",
       "      <td>GN⁺: 불타는 집에서 팀을 이끄는 방법 (peterszasz.com)</td>\n",
       "      <td>25</td>\n",
       "      <td>https://peterszasz.com/how-to-lead-your-team-w...</td>\n",
       "    </tr>\n",
       "    <tr>\n",
       "      <th>11</th>\n",
       "      <td>SDR을 활용해서 pLTE 셀룰러 네트워크 구축하기 (youtube.com)</td>\n",
       "      <td>6</td>\n",
       "      <td>https://www.youtube.com/watch?v=j2VBKvvmKKM</td>\n",
       "    </tr>\n",
       "    <tr>\n",
       "      <th>12</th>\n",
       "      <td>OnlyFans의 놀라운 경제 구조 분석 (matthewball.co)</td>\n",
       "      <td>17</td>\n",
       "      <td>https://www.matthewball.co/all/fansprofitandloss</td>\n",
       "    </tr>\n",
       "    <tr>\n",
       "      <th>13</th>\n",
       "      <td>GN⁺: 인텔은 Sony Playstaion 6 계약을 어떻게 AMD에 뺏겼나  (...</td>\n",
       "      <td>6</td>\n",
       "      <td>https://www.reuters.com/technology/how-intel-l...</td>\n",
       "    </tr>\n",
       "    <tr>\n",
       "      <th>14</th>\n",
       "      <td>GN⁺: Scrum이 당신을 스트레스 받게 하는 이유 (rethinkingsoftw...</td>\n",
       "      <td>13</td>\n",
       "      <td>https://rethinkingsoftware.substack.com/p/why-...</td>\n",
       "    </tr>\n",
       "    <tr>\n",
       "      <th>15</th>\n",
       "      <td>GN⁺: 애플 모바일 프로세서는 이제 TSMC가 미국에서 생산합니다 (timculp...</td>\n",
       "      <td>2</td>\n",
       "      <td>https://timculpan.substack.com/p/apple-mobile-...</td>\n",
       "    </tr>\n",
       "    <tr>\n",
       "      <th>16</th>\n",
       "      <td>GN⁺: Swift 6 출시 (swift.org)</td>\n",
       "      <td>5</td>\n",
       "      <td>https://www.swift.org/blog/announcing-swift-6/</td>\n",
       "    </tr>\n",
       "    <tr>\n",
       "      <th>17</th>\n",
       "      <td>Show GN: AI Selector : \"목적\"에 딱 맞는 AI 서비스 찾기 (a...</td>\n",
       "      <td>9</td>\n",
       "      <td>https://news.hada.io/topic?id=16797</td>\n",
       "    </tr>\n",
       "    <tr>\n",
       "      <th>18</th>\n",
       "      <td>GN⁺: Konty – 현대 앱을 위한 lo-fi 와이어프레임 도구. Balsami...</td>\n",
       "      <td>28</td>\n",
       "      <td>https://konty.app/</td>\n",
       "    </tr>\n",
       "    <tr>\n",
       "      <th>19</th>\n",
       "      <td>GN⁺: Linux 6.11 출시 (lwn.net)</td>\n",
       "      <td>10</td>\n",
       "      <td>https://lwn.net/Articles/990307/</td>\n",
       "    </tr>\n",
       "  </tbody>\n",
       "</table>\n",
       "</div>"
      ],
      "text/plain": [
       "                                                title points  \\\n",
       "0   Forbes Marketplace - 숙주를 먹어치우려는 기생 SEO 회사의 진실 ...      4   \n",
       "1              EU, 아이폰에 IOS 타사 개방 요구 (news.naver.com)      3   \n",
       "2   GN⁺: 닌텐도, Palworld 개발사 PocketPair 상대로 특허권 침해 소...      1   \n",
       "3   GN⁺: Scramble - Grammarly 대체 오픈소스  (github.com...      7   \n",
       "4   Oracle, 이제 JavaScript를 놓아줘야 할 때입니다. (javascrip...     14   \n",
       "5                Safari 18.0의 WebKit 기능들 (webkit.org)      4   \n",
       "6                    GN⁺: 책을 쓰지 말아야 하는 이유 (gwern.net)     12   \n",
       "7   GN⁺: MrBeast의 프로덕션 성공 비법 (유출된 PDF) (simonwilli...     34   \n",
       "8                    The HTTP Query Method (ietf.org)     11   \n",
       "9                           애플, iOS 18 출시 (apple.com)      4   \n",
       "10            GN⁺: 불타는 집에서 팀을 이끄는 방법 (peterszasz.com)     25   \n",
       "11         SDR을 활용해서 pLTE 셀룰러 네트워크 구축하기 (youtube.com)      6   \n",
       "12            OnlyFans의 놀라운 경제 구조 분석 (matthewball.co)     17   \n",
       "13  GN⁺: 인텔은 Sony Playstaion 6 계약을 어떻게 AMD에 뺏겼나  (...      6   \n",
       "14  GN⁺: Scrum이 당신을 스트레스 받게 하는 이유 (rethinkingsoftw...     13   \n",
       "15  GN⁺: 애플 모바일 프로세서는 이제 TSMC가 미국에서 생산합니다 (timculp...      2   \n",
       "16                        GN⁺: Swift 6 출시 (swift.org)      5   \n",
       "17  Show GN: AI Selector : \"목적\"에 딱 맞는 AI 서비스 찾기 (a...      9   \n",
       "18  GN⁺: Konty – 현대 앱을 위한 lo-fi 와이어프레임 도구. Balsami...     28   \n",
       "19                       GN⁺: Linux 6.11 출시 (lwn.net)     10   \n",
       "\n",
       "                                                 link  \n",
       "0         https://larslofgren.com/forbes-marketplace/  \n",
       "1   https://news.naver.com/mnews/article/029/00029...  \n",
       "2   https://www.nintendo.co.jp/corporate/release/e...  \n",
       "3            https://github.com/zlwaterfield/scramble  \n",
       "4                              https://javascript.tm/  \n",
       "5   https://webkit.org/blog/15865/webkit-features-...  \n",
       "6                      https://gwern.net/book-writing  \n",
       "7   https://simonwillison.net/2024/Sep/15/how-to-s...  \n",
       "8   https://www.ietf.org/archive/id/draft-ietf-htt...  \n",
       "9   https://www.apple.com/kr/newsroom/2024/09/ios-...  \n",
       "10  https://peterszasz.com/how-to-lead-your-team-w...  \n",
       "11        https://www.youtube.com/watch?v=j2VBKvvmKKM  \n",
       "12   https://www.matthewball.co/all/fansprofitandloss  \n",
       "13  https://www.reuters.com/technology/how-intel-l...  \n",
       "14  https://rethinkingsoftware.substack.com/p/why-...  \n",
       "15  https://timculpan.substack.com/p/apple-mobile-...  \n",
       "16     https://www.swift.org/blog/announcing-swift-6/  \n",
       "17                https://news.hada.io/topic?id=16797  \n",
       "18                                 https://konty.app/  \n",
       "19                   https://lwn.net/Articles/990307/  "
      ]
     },
     "execution_count": 1,
     "metadata": {},
     "output_type": "execute_result"
    }
   ],
   "source": [
    "# test.py\n",
    "import pandas as pd\n",
    "from ArticleTools import crawling_news\n",
    "\n",
    "df = pd.DataFrame(crawling_news.get_req())\n",
    "df"
   ]
  },
  {
   "cell_type": "code",
   "execution_count": 2,
   "metadata": {},
   "outputs": [
    {
     "data": {
      "text/plain": [
       "0           https://larslofgren.com/forbes-marketplace/\n",
       "1     https://news.naver.com/mnews/article/029/00029...\n",
       "2     https://www.nintendo.co.jp/corporate/release/e...\n",
       "3              https://github.com/zlwaterfield/scramble\n",
       "4                                https://javascript.tm/\n",
       "5     https://webkit.org/blog/15865/webkit-features-...\n",
       "6                        https://gwern.net/book-writing\n",
       "7     https://simonwillison.net/2024/Sep/15/how-to-s...\n",
       "8     https://www.ietf.org/archive/id/draft-ietf-htt...\n",
       "9     https://www.apple.com/kr/newsroom/2024/09/ios-...\n",
       "10    https://peterszasz.com/how-to-lead-your-team-w...\n",
       "11          https://www.youtube.com/watch?v=j2VBKvvmKKM\n",
       "12     https://www.matthewball.co/all/fansprofitandloss\n",
       "13    https://www.reuters.com/technology/how-intel-l...\n",
       "14    https://rethinkingsoftware.substack.com/p/why-...\n",
       "15    https://timculpan.substack.com/p/apple-mobile-...\n",
       "16       https://www.swift.org/blog/announcing-swift-6/\n",
       "17                  https://news.hada.io/topic?id=16797\n",
       "18                                   https://konty.app/\n",
       "19                     https://lwn.net/Articles/990307/\n",
       "Name: link, dtype: object"
      ]
     },
     "execution_count": 2,
     "metadata": {},
     "output_type": "execute_result"
    }
   ],
   "source": [
    "df['link']"
   ]
  },
  {
   "cell_type": "code",
   "execution_count": 3,
   "metadata": {},
   "outputs": [
    {
     "name": "stderr",
     "output_type": "stream",
     "text": [
      "USER_AGENT environment variable not set, consider setting it to identify your requests.\n"
     ]
    }
   ],
   "source": [
    "from langchain.document_loaders import WebBaseLoader\n",
    "from langchain.text_splitter import RecursiveCharacterTextSplitter\n",
    "\n",
    "loader = WebBaseLoader(df['link'][13])\n",
    "data = loader.load()\n",
    "\n",
    "text_splitter=RecursiveCharacterTextSplitter(chunk_size=500, chunk_overlap=0) \n",
    "all_splits = text_splitter.split_documents(data)"
   ]
  },
  {
   "cell_type": "code",
   "execution_count": 4,
   "metadata": {},
   "outputs": [
    {
     "data": {
      "text/plain": [
       "[Document(metadata={'source': 'https://www.reuters.com/technology/how-intel-lost-sony-playstation-business-2024-09-16/', 'title': 'reuters.com', 'language': 'No language found.'}, page_content='reuters.comPlease enable JS and disable any ad blocker')]"
      ]
     },
     "execution_count": 4,
     "metadata": {},
     "output_type": "execute_result"
    }
   ],
   "source": [
    "all_splits"
   ]
  },
  {
   "cell_type": "code",
   "execution_count": 5,
   "metadata": {},
   "outputs": [],
   "source": [
    "from langchain_community.llms import Ollama\n",
    "from langchain import PromptTemplate\n",
    "\n",
    "model = Ollama(model='gemma2:2b', stop=[\"<|eot_id|>\"]) # Added the stop token"
   ]
  },
  {
   "cell_type": "code",
   "execution_count": 6,
   "metadata": {},
   "outputs": [],
   "source": [
    "user_prompt = \"Summarize the content and explain in detail by korean.\"\n",
    "\n",
    "system_prompt = \"\"\"Think and write your step-by-step reasoning before responding.\n",
    "Make sure you don't deviate from json grammar.\n",
    "Please write all conversations in Korean(한국어).\n",
    "\"\"\""
   ]
  },
  {
   "cell_type": "code",
   "execution_count": 7,
   "metadata": {},
   "outputs": [
    {
     "name": "stderr",
     "output_type": "stream",
     "text": [
      "/home/kar/Projects/News_Summary/venv/lib/python3.12/site-packages/pydantic/_internal/_fields.py:132: UserWarning: Field \"model_name\" in HuggingFaceInferenceAPIEmbeddings has conflict with protected namespace \"model_\".\n",
      "\n",
      "You may be able to resolve this warning by setting `model_config['protected_namespaces'] = ()`.\n",
      "  warnings.warn(\n",
      "/tmp/ipykernel_2318/2986656654.py:4: LangChainDeprecationWarning: The class `HuggingFaceEmbeddings` was deprecated in LangChain 0.2.2 and will be removed in 1.0. An updated version of the class exists in the langchain-huggingface package and should be used instead. To use it run `pip install -U langchain-huggingface` and import as `from langchain_huggingface import HuggingFaceEmbeddings`.\n",
      "  embeddings = SentenceTransformerEmbeddings(model_name=\"all-MiniLM-L6-v2\")\n",
      "/home/kar/Projects/News_Summary/venv/lib/python3.12/site-packages/sentence_transformers/cross_encoder/CrossEncoder.py:13: TqdmWarning: IProgress not found. Please update jupyter and ipywidgets. See https://ipywidgets.readthedocs.io/en/stable/user_install.html\n",
      "  from tqdm.autonotebook import tqdm, trange\n",
      "/home/kar/Projects/News_Summary/venv/lib/python3.12/site-packages/transformers/tokenization_utils_base.py:1601: FutureWarning: `clean_up_tokenization_spaces` was not set. It will be set to `True` by default. This behavior will be depracted in transformers v4.45, and will be then set to `False` by default. For more details check this issue: https://github.com/huggingface/transformers/issues/31884\n",
      "  warnings.warn(\n",
      "Number of requested results 4 is greater than number of elements in index 1, updating n_results = 1\n"
     ]
    }
   ],
   "source": [
    "from langchain.vectorstores import Chroma\n",
    "from langchain.embeddings import SentenceTransformerEmbeddings\n",
    "\n",
    "embeddings = SentenceTransformerEmbeddings(model_name=\"all-MiniLM-L6-v2\")\n",
    "vectorstore = Chroma.from_documents(documents=all_splits, embedding=embeddings)\n",
    "docs = vectorstore.similarity_search(user_prompt)"
   ]
  },
  {
   "cell_type": "code",
   "execution_count": 8,
   "metadata": {},
   "outputs": [
    {
     "name": "stderr",
     "output_type": "stream",
     "text": [
      "/tmp/ipykernel_2318/2901870035.py:22: LangChainDeprecationWarning: The method `Chain.__call__` was deprecated in langchain 0.1.0 and will be removed in 1.0. Use invoke instead.\n",
      "  response = qachain(prompt.format(system_prompt=system_prompt, user_prompt=user_prompt))\n",
      "Number of requested results 4 is greater than number of elements in index 1, updating n_results = 1\n"
     ]
    }
   ],
   "source": [
    "# NOTE: No f-string and no whitespace in curly braces.\n",
    "template = \"\"\"\n",
    "    <|begin_of_text|>\n",
    "    <|start_header_id|>system<|end_header_id|>\n",
    "    {system_prompt}\n",
    "    <|eot_id|>\n",
    "    <|start_header_id|>user<|end_header_id|>\n",
    "    {user_prompt}\n",
    "    <|eot_id|>\n",
    "    <|start_header_id|>assistant<|end_header_id|>\n",
    "\"\"\"\n",
    "\n",
    "prompt = PromptTemplate(\n",
    "    input_variables=['system_prompt', 'user_prompt'],\n",
    "    template=template\n",
    ")\n",
    "\n",
    "from langchain.chains import RetrievalQA\n",
    "\n",
    "qachain = RetrievalQA.from_chain_type(model, retriever=vectorstore.as_retriever())\n",
    "\n",
    "response = qachain(prompt.format(system_prompt=system_prompt, user_prompt=user_prompt))"
   ]
  },
  {
   "cell_type": "code",
   "execution_count": 9,
   "metadata": {},
   "outputs": [
    {
     "data": {
      "text/plain": [
       "{'query': \"\\n    <|begin_of_text|>\\n    <|start_header_id|>system<|end_header_id|>\\n    Think and write your step-by-step reasoning before responding.\\nMake sure you don't deviate from json grammar.\\nPlease write all conversations in Korean(한국어).\\n\\n    <|eot_id|>\\n    <|start_header_id|>user<|end_header_id|>\\n    Summarize the content and explain in detail by korean.\\n    <|eot_id|>\\n    <|start_header_id|>assistant<|end_header_id|>\\n\",\n",
       " 'result': '죄송합니다만, 제공된 텍스트를 분석할 수 없습니다. 필요한 정보가 부족합니다.  영어로 된 질문을 입력하시면 최선을 다해 답변드릴 수 있습니다. \\n'}"
      ]
     },
     "execution_count": 9,
     "metadata": {},
     "output_type": "execute_result"
    }
   ],
   "source": [
    "response"
   ]
  },
  {
   "cell_type": "code",
   "execution_count": 10,
   "metadata": {},
   "outputs": [
    {
     "name": "stdout",
     "output_type": "stream",
     "text": [
      "죄송합니다만, 제공된 텍스트를 분석할 수 없습니다. 필요한 정보가 부족합니다.  영어로 된 질문을 입력하시면 최선을 다해 답변드릴 수 있습니다. \n",
      "\n"
     ]
    }
   ],
   "source": [
    "print(response['result'])"
   ]
  }
 ],
 "metadata": {
  "kernelspec": {
   "display_name": "venv",
   "language": "python",
   "name": "python3"
  },
  "language_info": {
   "codemirror_mode": {
    "name": "ipython",
    "version": 3
   },
   "file_extension": ".py",
   "mimetype": "text/x-python",
   "name": "python",
   "nbconvert_exporter": "python",
   "pygments_lexer": "ipython3",
   "version": "3.12.6"
  }
 },
 "nbformat": 4,
 "nbformat_minor": 2
}
