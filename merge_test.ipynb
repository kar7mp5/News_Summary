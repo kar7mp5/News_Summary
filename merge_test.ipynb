{
 "cells": [
  {
   "cell_type": "code",
   "execution_count": 47,
   "metadata": {},
   "outputs": [
    {
     "data": {
      "text/html": [
       "<div>\n",
       "<style scoped>\n",
       "    .dataframe tbody tr th:only-of-type {\n",
       "        vertical-align: middle;\n",
       "    }\n",
       "\n",
       "    .dataframe tbody tr th {\n",
       "        vertical-align: top;\n",
       "    }\n",
       "\n",
       "    .dataframe thead th {\n",
       "        text-align: right;\n",
       "    }\n",
       "</style>\n",
       "<table border=\"1\" class=\"dataframe\">\n",
       "  <thead>\n",
       "    <tr style=\"text-align: right;\">\n",
       "      <th></th>\n",
       "      <th>title</th>\n",
       "      <th>points</th>\n",
       "      <th>link</th>\n",
       "    </tr>\n",
       "  </thead>\n",
       "  <tbody>\n",
       "    <tr>\n",
       "      <th>0</th>\n",
       "      <td>GN⁺: Scramble - Grammarly 대체 오픈소스  (github.com...</td>\n",
       "      <td>5</td>\n",
       "      <td>https://github.com/zlwaterfield/scramble</td>\n",
       "    </tr>\n",
       "    <tr>\n",
       "      <th>1</th>\n",
       "      <td>Safari 18.0의 WebKit 기능들 (webkit.org)</td>\n",
       "      <td>4</td>\n",
       "      <td>https://webkit.org/blog/15865/webkit-features-...</td>\n",
       "    </tr>\n",
       "    <tr>\n",
       "      <th>2</th>\n",
       "      <td>애플, iOS 18 출시 (apple.com)</td>\n",
       "      <td>4</td>\n",
       "      <td>https://www.apple.com/kr/newsroom/2024/09/ios-...</td>\n",
       "    </tr>\n",
       "    <tr>\n",
       "      <th>3</th>\n",
       "      <td>Oracle, 이제 JavaScript를 놓아줘야 할 때입니다. (javascrip...</td>\n",
       "      <td>13</td>\n",
       "      <td>https://javascript.tm/</td>\n",
       "    </tr>\n",
       "    <tr>\n",
       "      <th>4</th>\n",
       "      <td>GN⁺: 책을 쓰지 말아야 하는 이유 (gwern.net)</td>\n",
       "      <td>11</td>\n",
       "      <td>https://gwern.net/book-writing</td>\n",
       "    </tr>\n",
       "    <tr>\n",
       "      <th>5</th>\n",
       "      <td>The HTTP Query Method (ietf.org)</td>\n",
       "      <td>10</td>\n",
       "      <td>https://www.ietf.org/archive/id/draft-ietf-htt...</td>\n",
       "    </tr>\n",
       "    <tr>\n",
       "      <th>6</th>\n",
       "      <td>GN⁺: 애플 모바일 프로세서는 이제 TSMC가 미국에서 생산합니다 (timculp...</td>\n",
       "      <td>2</td>\n",
       "      <td>https://timculpan.substack.com/p/apple-mobile-...</td>\n",
       "    </tr>\n",
       "    <tr>\n",
       "      <th>7</th>\n",
       "      <td>GN⁺: MrBeast의 프로덕션 성공 비법 (유출된 PDF) (simonwilli...</td>\n",
       "      <td>34</td>\n",
       "      <td>https://simonwillison.net/2024/Sep/15/how-to-s...</td>\n",
       "    </tr>\n",
       "    <tr>\n",
       "      <th>8</th>\n",
       "      <td>GN⁺: 불타는 집에서 팀을 이끄는 방법 (peterszasz.com)</td>\n",
       "      <td>21</td>\n",
       "      <td>https://peterszasz.com/how-to-lead-your-team-w...</td>\n",
       "    </tr>\n",
       "    <tr>\n",
       "      <th>9</th>\n",
       "      <td>SDR을 활용해서 pLTE 셀룰러 네트워크 구축하기 (youtube.com)</td>\n",
       "      <td>4</td>\n",
       "      <td>https://www.youtube.com/watch?v=j2VBKvvmKKM</td>\n",
       "    </tr>\n",
       "    <tr>\n",
       "      <th>10</th>\n",
       "      <td>GN⁺: 인텔은 Sony Playstaion 6 계약을 어떻게 AMD에 뺏겼나  (...</td>\n",
       "      <td>6</td>\n",
       "      <td>https://www.reuters.com/technology/how-intel-l...</td>\n",
       "    </tr>\n",
       "    <tr>\n",
       "      <th>11</th>\n",
       "      <td>GN⁺: Swift 6 출시 (swift.org)</td>\n",
       "      <td>5</td>\n",
       "      <td>https://www.swift.org/blog/announcing-swift-6/</td>\n",
       "    </tr>\n",
       "    <tr>\n",
       "      <th>12</th>\n",
       "      <td>GN⁺: RabbitMQ 4.0 출시 (github.com/rabbitmq)</td>\n",
       "      <td>1</td>\n",
       "      <td>https://github.com/rabbitmq/rabbitmq-server/re...</td>\n",
       "    </tr>\n",
       "    <tr>\n",
       "      <th>13</th>\n",
       "      <td>OnlyFans의 놀라운 경제 구조 분석 (matthewball.co)</td>\n",
       "      <td>17</td>\n",
       "      <td>https://www.matthewball.co/all/fansprofitandloss</td>\n",
       "    </tr>\n",
       "    <tr>\n",
       "      <th>14</th>\n",
       "      <td>GN⁺: Scrum이 당신을 스트레스 받게 하는 이유 (rethinkingsoftw...</td>\n",
       "      <td>10</td>\n",
       "      <td>https://rethinkingsoftware.substack.com/p/why-...</td>\n",
       "    </tr>\n",
       "    <tr>\n",
       "      <th>15</th>\n",
       "      <td>Show GN: AI Selector : \"목적\"에 딱 맞는 AI 서비스 찾기 (a...</td>\n",
       "      <td>8</td>\n",
       "      <td>https://news.hada.io/topic?id=16797</td>\n",
       "    </tr>\n",
       "    <tr>\n",
       "      <th>16</th>\n",
       "      <td>GN⁺: Linux 6.11 출시 (lwn.net)</td>\n",
       "      <td>10</td>\n",
       "      <td>https://lwn.net/Articles/990307/</td>\n",
       "    </tr>\n",
       "    <tr>\n",
       "      <th>17</th>\n",
       "      <td>GN⁺: Konty – 현대 앱을 위한 lo-fi 와이어프레임 도구. Balsami...</td>\n",
       "      <td>28</td>\n",
       "      <td>https://konty.app/</td>\n",
       "    </tr>\n",
       "    <tr>\n",
       "      <th>18</th>\n",
       "      <td>Novops - 크로스 플랫폼 Secret &amp; Config 관리자 (github.c...</td>\n",
       "      <td>14</td>\n",
       "      <td>https://github.com/PierreBeucher/novops</td>\n",
       "    </tr>\n",
       "    <tr>\n",
       "      <th>19</th>\n",
       "      <td>GN⁺: OpenSCAD - 프로그래머를 위한 3D CAD 모델러  (opensca...</td>\n",
       "      <td>10</td>\n",
       "      <td>https://openscad.org/</td>\n",
       "    </tr>\n",
       "  </tbody>\n",
       "</table>\n",
       "</div>"
      ],
      "text/plain": [
       "                                                title points  \\\n",
       "0   GN⁺: Scramble - Grammarly 대체 오픈소스  (github.com...      5   \n",
       "1                Safari 18.0의 WebKit 기능들 (webkit.org)      4   \n",
       "2                           애플, iOS 18 출시 (apple.com)      4   \n",
       "3   Oracle, 이제 JavaScript를 놓아줘야 할 때입니다. (javascrip...     13   \n",
       "4                    GN⁺: 책을 쓰지 말아야 하는 이유 (gwern.net)     11   \n",
       "5                    The HTTP Query Method (ietf.org)     10   \n",
       "6   GN⁺: 애플 모바일 프로세서는 이제 TSMC가 미국에서 생산합니다 (timculp...      2   \n",
       "7   GN⁺: MrBeast의 프로덕션 성공 비법 (유출된 PDF) (simonwilli...     34   \n",
       "8             GN⁺: 불타는 집에서 팀을 이끄는 방법 (peterszasz.com)     21   \n",
       "9          SDR을 활용해서 pLTE 셀룰러 네트워크 구축하기 (youtube.com)      4   \n",
       "10  GN⁺: 인텔은 Sony Playstaion 6 계약을 어떻게 AMD에 뺏겼나  (...      6   \n",
       "11                        GN⁺: Swift 6 출시 (swift.org)      5   \n",
       "12         GN⁺: RabbitMQ 4.0 출시 (github.com/rabbitmq)      1   \n",
       "13            OnlyFans의 놀라운 경제 구조 분석 (matthewball.co)     17   \n",
       "14  GN⁺: Scrum이 당신을 스트레스 받게 하는 이유 (rethinkingsoftw...     10   \n",
       "15  Show GN: AI Selector : \"목적\"에 딱 맞는 AI 서비스 찾기 (a...      8   \n",
       "16                       GN⁺: Linux 6.11 출시 (lwn.net)     10   \n",
       "17  GN⁺: Konty – 현대 앱을 위한 lo-fi 와이어프레임 도구. Balsami...     28   \n",
       "18  Novops - 크로스 플랫폼 Secret & Config 관리자 (github.c...     14   \n",
       "19  GN⁺: OpenSCAD - 프로그래머를 위한 3D CAD 모델러  (opensca...     10   \n",
       "\n",
       "                                                 link  \n",
       "0            https://github.com/zlwaterfield/scramble  \n",
       "1   https://webkit.org/blog/15865/webkit-features-...  \n",
       "2   https://www.apple.com/kr/newsroom/2024/09/ios-...  \n",
       "3                              https://javascript.tm/  \n",
       "4                      https://gwern.net/book-writing  \n",
       "5   https://www.ietf.org/archive/id/draft-ietf-htt...  \n",
       "6   https://timculpan.substack.com/p/apple-mobile-...  \n",
       "7   https://simonwillison.net/2024/Sep/15/how-to-s...  \n",
       "8   https://peterszasz.com/how-to-lead-your-team-w...  \n",
       "9         https://www.youtube.com/watch?v=j2VBKvvmKKM  \n",
       "10  https://www.reuters.com/technology/how-intel-l...  \n",
       "11     https://www.swift.org/blog/announcing-swift-6/  \n",
       "12  https://github.com/rabbitmq/rabbitmq-server/re...  \n",
       "13   https://www.matthewball.co/all/fansprofitandloss  \n",
       "14  https://rethinkingsoftware.substack.com/p/why-...  \n",
       "15                https://news.hada.io/topic?id=16797  \n",
       "16                   https://lwn.net/Articles/990307/  \n",
       "17                                 https://konty.app/  \n",
       "18            https://github.com/PierreBeucher/novops  \n",
       "19                              https://openscad.org/  "
      ]
     },
     "execution_count": 47,
     "metadata": {},
     "output_type": "execute_result"
    }
   ],
   "source": [
    "# test.py\n",
    "import pandas as pd\n",
    "from News_Crawler import crawling_news\n",
    "\n",
    "df = pd.DataFrame(crawling_news.get_req())\n",
    "df"
   ]
  },
  {
   "cell_type": "code",
   "execution_count": 48,
   "metadata": {},
   "outputs": [
    {
     "data": {
      "text/plain": [
       "0              https://github.com/zlwaterfield/scramble\n",
       "1     https://webkit.org/blog/15865/webkit-features-...\n",
       "2     https://www.apple.com/kr/newsroom/2024/09/ios-...\n",
       "3                                https://javascript.tm/\n",
       "4                        https://gwern.net/book-writing\n",
       "5     https://www.ietf.org/archive/id/draft-ietf-htt...\n",
       "6     https://timculpan.substack.com/p/apple-mobile-...\n",
       "7     https://simonwillison.net/2024/Sep/15/how-to-s...\n",
       "8     https://peterszasz.com/how-to-lead-your-team-w...\n",
       "9           https://www.youtube.com/watch?v=j2VBKvvmKKM\n",
       "10    https://www.reuters.com/technology/how-intel-l...\n",
       "11       https://www.swift.org/blog/announcing-swift-6/\n",
       "12    https://github.com/rabbitmq/rabbitmq-server/re...\n",
       "13     https://www.matthewball.co/all/fansprofitandloss\n",
       "14    https://rethinkingsoftware.substack.com/p/why-...\n",
       "15                  https://news.hada.io/topic?id=16797\n",
       "16                     https://lwn.net/Articles/990307/\n",
       "17                                   https://konty.app/\n",
       "18              https://github.com/PierreBeucher/novops\n",
       "19                                https://openscad.org/\n",
       "Name: link, dtype: object"
      ]
     },
     "execution_count": 48,
     "metadata": {},
     "output_type": "execute_result"
    }
   ],
   "source": [
    "df['link']"
   ]
  },
  {
   "cell_type": "code",
   "execution_count": 49,
   "metadata": {},
   "outputs": [],
   "source": [
    "from langchain.document_loaders import WebBaseLoader\n",
    "from langchain.text_splitter import RecursiveCharacterTextSplitter\n",
    "\n",
    "loader = WebBaseLoader(df['link'][0])\n",
    "data = loader.load()\n",
    "\n",
    "text_splitter=RecursiveCharacterTextSplitter(chunk_size=500, chunk_overlap=0) \n",
    "all_splits = text_splitter.split_documents(data)"
   ]
  },
  {
   "cell_type": "code",
   "execution_count": 50,
   "metadata": {},
   "outputs": [
    {
     "data": {
      "text/plain": [
       "[Document(metadata={'source': 'https://github.com/zlwaterfield/scramble', 'title': 'GitHub - zlwaterfield/scramble: Open-Source Grammarly Alternative', 'description': 'Open-Source Grammarly Alternative. Contribute to zlwaterfield/scramble development by creating an account on GitHub.', 'language': 'en'}, page_content='GitHub - zlwaterfield/scramble: Open-Source Grammarly Alternative\\n\\n\\n\\n\\n\\n\\n\\n\\n\\n\\n\\n\\n\\n\\n\\n\\n\\n\\n\\n\\n\\n\\n\\n\\n\\n\\n\\n\\n\\n\\n\\n\\n\\n\\n\\n\\n\\n\\n\\n\\n\\n\\n\\n\\n\\nSkip to content\\n\\n\\n\\n\\n\\n\\n\\n\\n\\n\\n\\n\\n\\nNavigation Menu\\n\\nToggle navigation\\n\\n\\n\\n\\n \\n\\n\\n\\n\\n\\n\\n\\n\\n\\n\\n\\n\\n\\n            Sign in\\n          \\n\\n\\n\\n\\n\\n\\n\\n\\n        Product\\n        \\n\\n\\n\\n\\n\\n\\n\\n\\n\\n\\n\\n\\nActions\\n        Automate any workflow\\n      \\n\\n\\n\\n\\n\\n\\n\\nPackages\\n        Host and manage packages'),\n",
       " Document(metadata={'source': 'https://github.com/zlwaterfield/scramble', 'title': 'GitHub - zlwaterfield/scramble: Open-Source Grammarly Alternative', 'description': 'Open-Source Grammarly Alternative. Contribute to zlwaterfield/scramble development by creating an account on GitHub.', 'language': 'en'}, page_content='Security\\n        Find and fix vulnerabilities\\n      \\n\\n\\n\\n\\n\\n\\n\\nCodespaces\\n        Instant dev environments\\n      \\n\\n\\n\\n\\n\\n\\n\\nGitHub Copilot\\n        Write better code with AI\\n      \\n\\n\\n\\n\\n\\n\\n\\nCode review\\n        Manage code changes\\n      \\n\\n\\n\\n\\n\\n\\n\\nIssues\\n        Plan and track work\\n      \\n\\n\\n\\n\\n\\n\\n\\nDiscussions\\n        Collaborate outside of code\\n      \\n\\n\\n\\n\\nExplore\\n\\n\\n\\n      All features\\n\\n    \\n\\n\\n\\n      Documentation\\n\\n    \\n\\n\\n\\n\\n\\n      GitHub Skills\\n\\n    \\n\\n\\n\\n\\n\\n      Blog\\n\\n    \\n\\n\\n\\n\\n\\n\\n\\n\\n\\n        Solutions'),\n",
       " Document(metadata={'source': 'https://github.com/zlwaterfield/scramble', 'title': 'GitHub - zlwaterfield/scramble: Open-Source Grammarly Alternative', 'description': 'Open-Source Grammarly Alternative. Contribute to zlwaterfield/scramble development by creating an account on GitHub.', 'language': 'en'}, page_content='By size\\n\\n\\n\\n      Enterprise\\n\\n    \\n\\n\\n\\n      Teams\\n\\n    \\n\\n\\n\\n      Startups\\n\\n    \\n\\n\\n\\n\\nBy industry\\n\\n\\n\\n      Healthcare\\n\\n    \\n\\n\\n\\n      Financial services\\n\\n    \\n\\n\\n\\n      Manufacturing\\n\\n    \\n\\n\\n\\n\\nBy use case\\n\\n\\n\\n      CI/CD & Automation\\n\\n    \\n\\n\\n\\n      DevOps\\n\\n    \\n\\n\\n\\n      DevSecOps\\n\\n    \\n\\n\\n\\n\\n\\n\\n\\n        Resources\\n        \\n\\n\\n\\n\\n\\nTopics\\n\\n\\n\\n      AI\\n\\n    \\n\\n\\n\\n      DevOps\\n\\n    \\n\\n\\n\\n      Security\\n\\n    \\n\\n\\n\\n      Software Development\\n\\n    \\n\\n\\n\\n      View all\\n\\n    \\n\\n\\n\\n\\nExplore\\n\\n\\n\\n      Learning Pathways'),\n",
       " Document(metadata={'source': 'https://github.com/zlwaterfield/scramble', 'title': 'GitHub - zlwaterfield/scramble: Open-Source Grammarly Alternative', 'description': 'Open-Source Grammarly Alternative. Contribute to zlwaterfield/scramble development by creating an account on GitHub.', 'language': 'en'}, page_content='White papers, Ebooks, Webinars\\n\\n    \\n\\n\\n\\n\\n\\n      Customer Stories\\n\\n    \\n\\n\\n\\n      Partners\\n\\n    \\n\\n\\n\\n\\n\\n\\n\\n\\n\\n        Open Source\\n        \\n\\n\\n\\n\\n\\n\\n\\n\\n\\nGitHub Sponsors\\n        Fund open source developers\\n      \\n\\n\\n\\n\\n\\n\\n\\n\\nThe ReadME Project\\n        GitHub community articles\\n      \\n\\n\\n\\n\\nRepositories\\n\\n\\n\\n      Topics\\n\\n    \\n\\n\\n\\n      Trending\\n\\n    \\n\\n\\n\\n      Collections\\n\\n    \\n\\n\\n\\n\\n\\n\\n\\n        Enterprise\\n        \\n\\n\\n\\n\\n\\n\\n\\n\\n\\n\\n\\n\\nEnterprise platform\\n        AI-powered developer platform'),\n",
       " Document(metadata={'source': 'https://github.com/zlwaterfield/scramble', 'title': 'GitHub - zlwaterfield/scramble: Open-Source Grammarly Alternative', 'description': 'Open-Source Grammarly Alternative. Contribute to zlwaterfield/scramble development by creating an account on GitHub.', 'language': 'en'}, page_content='Available add-ons\\n\\n\\n\\n\\n\\n\\n\\nAdvanced Security\\n        Enterprise-grade security features\\n      \\n\\n\\n\\n\\n\\n\\n\\nGitHub Copilot\\n        Enterprise-grade AI features\\n      \\n\\n\\n\\n\\n\\n\\n\\nPremium Support\\n        Enterprise-grade 24/7 support\\n      \\n\\n\\n\\n\\n\\n\\nPricing\\n\\n\\n\\n\\n\\n\\n\\n\\n\\n\\n\\n\\nSearch or jump to...\\n\\n\\n\\n\\n\\n\\n\\nSearch code, repositories, users, issues, pull requests...\\n\\n \\n\\n\\n\\n\\n        Search\\n      \\n\\n\\n\\n\\n\\n\\n\\n\\n\\n\\n\\n\\n\\nClear\\n \\n\\n\\n\\n\\n\\n\\n\\n\\n\\n\\n\\n\\n\\n\\n\\n\\n\\n\\n\\n\\n\\n\\n\\n\\n\\n\\n\\n\\n\\n\\n\\n\\n\\n\\n\\n\\n\\n\\n\\n\\n\\n\\n\\n\\n\\n\\n\\n\\n \\n\\n\\n\\n\\n              Search syntax tips'),\n",
       " Document(metadata={'source': 'https://github.com/zlwaterfield/scramble', 'title': 'GitHub - zlwaterfield/scramble: Open-Source Grammarly Alternative', 'description': 'Open-Source Grammarly Alternative. Contribute to zlwaterfield/scramble development by creating an account on GitHub.', 'language': 'en'}, page_content='Provide feedback\\n      \\n\\n\\n\\n\\n\\n\\n\\n\\n\\n \\nWe read every piece of feedback, and take your input very seriously.\\n\\n\\nInclude my email address so I can be contacted\\n\\n\\n     Cancel\\n\\n    Submit feedback\\n\\n\\n\\n\\n\\n\\n\\n\\n\\n\\n        Saved searches\\n      \\nUse saved searches to filter your results more quickly\\n\\n\\n\\n\\n\\n\\n\\n\\n\\n \\n\\n\\n\\n\\n\\nName\\n\\n\\n\\n\\n\\n\\nQuery\\n\\n\\n\\n            To see all available qualifiers, see our documentation.\\n          \\n \\n\\n\\n\\n\\n\\n     Cancel\\n\\n    Create saved search\\n\\n\\n\\n\\n\\n\\n\\n\\n                Sign in'),\n",
       " Document(metadata={'source': 'https://github.com/zlwaterfield/scramble', 'title': 'GitHub - zlwaterfield/scramble: Open-Source Grammarly Alternative', 'description': 'Open-Source Grammarly Alternative. Contribute to zlwaterfield/scramble development by creating an account on GitHub.', 'language': 'en'}, page_content='Sign up\\n              \\nReseting focus\\n\\n\\n\\n\\n\\n\\n\\n\\n\\nYou signed in with another tab or window. Reload to refresh your session.\\nYou signed out in another tab or window. Reload to refresh your session.\\nYou switched accounts on another tab or window. Reload to refresh your session.\\n \\n\\n\\nDismiss alert\\n\\n\\n\\n\\n\\n\\n\\n\\n\\n\\n\\n\\n\\n\\n\\n\\n\\n\\n\\n        zlwaterfield\\n \\n/\\n\\nscramble\\n\\nPublic\\n\\n\\n\\n\\n\\n \\n\\nNotifications\\n You must be signed in to change notification settings\\n\\n\\n \\n\\nFork\\n    27\\n\\n\\n\\n\\n \\n\\n\\n          Star\\n 820'),\n",
       " Document(metadata={'source': 'https://github.com/zlwaterfield/scramble', 'title': 'GitHub - zlwaterfield/scramble: Open-Source Grammarly Alternative', 'description': 'Open-Source Grammarly Alternative. Contribute to zlwaterfield/scramble development by creating an account on GitHub.', 'language': 'en'}, page_content='Open-Source Grammarly Alternative\\n      \\nLicense\\n\\n\\n\\n\\n\\n     MIT license\\n    \\n\\n\\n\\n\\n\\n\\n820\\n          stars\\n \\n\\n\\n\\n27\\n          forks\\n \\n\\n\\n\\nBranches\\n \\n\\n\\n\\nTags\\n \\n\\n\\n\\nActivity\\n \\n\\n\\n\\n \\n\\n\\n          Star\\n\\n\\n\\n\\n \\n\\nNotifications\\n You must be signed in to change notification settings\\n\\n\\n\\n\\n\\n\\n\\n\\n\\n\\n\\n\\n\\nCode\\n\\n\\n\\n\\n\\n\\n\\nIssues\\n4\\n\\n\\n\\n\\n\\n\\nPull requests\\n2\\n\\n\\n\\n\\n\\n\\nActions\\n\\n\\n\\n\\n\\n\\n\\nProjects\\n0\\n\\n\\n\\n\\n\\n\\nSecurity\\n\\n\\n\\n\\n\\n\\n\\nInsights\\n\\n\\n\\n \\n\\n \\n\\n\\nAdditional navigation options\\n\\n\\n \\n\\n\\n\\n\\n\\n\\n\\n\\n\\n\\n          Code\\n\\n\\n\\n\\n\\n\\n\\n\\n\\n\\n\\n          Issues'),\n",
       " Document(metadata={'source': 'https://github.com/zlwaterfield/scramble', 'title': 'GitHub - zlwaterfield/scramble: Open-Source Grammarly Alternative', 'description': 'Open-Source Grammarly Alternative. Contribute to zlwaterfield/scramble development by creating an account on GitHub.', 'language': 'en'}, page_content='Pull requests\\n\\n\\n\\n\\n\\n\\n\\n\\n\\n\\n\\n          Actions\\n\\n\\n\\n\\n\\n\\n\\n\\n\\n\\n\\n          Projects\\n\\n\\n\\n\\n\\n\\n\\n\\n\\n\\n\\n          Security\\n\\n\\n\\n\\n\\n\\n\\n\\n\\n\\n\\n          Insights\\n\\n\\n\\n\\n\\n\\n \\n\\n\\n\\n\\n\\nzlwaterfield/scramble\\n\\n\\n\\n\\n\\n\\n\\nThis commit does not belong to any branch on this repository, and may belong to a fork outside of the repository.'),\n",
       " Document(metadata={'source': 'https://github.com/zlwaterfield/scramble', 'title': 'GitHub - zlwaterfield/scramble: Open-Source Grammarly Alternative', 'description': 'Open-Source Grammarly Alternative. Contribute to zlwaterfield/scramble development by creating an account on GitHub.', 'language': 'en'}, page_content='mainBranchesTagsGo to fileCodeFolders and filesNameNameLast commit messageLast commit dateLatest commit\\xa0History14 Commitsassetsassets\\xa0\\xa0.gitignore.gitignore\\xa0\\xa0LICENSELICENSE\\xa0\\xa0README.mdREADME.md\\xa0\\xa0background.jsbackground.js\\xa0\\xa0content.jscontent.js\\xa0\\xa0manifest.jsonmanifest.json\\xa0\\xa0options.htmloptions.html\\xa0\\xa0options.jsoptions.js\\xa0\\xa0popup.htmlpopup.html\\xa0\\xa0popup.jspopup.js\\xa0\\xa0privacy.mdprivacy.md\\xa0\\xa0View all filesRepository files navigationREADMEMIT licenseScramble - Open-Source Grammarly Alternative'),\n",
       " Document(metadata={'source': 'https://github.com/zlwaterfield/scramble', 'title': 'GitHub - zlwaterfield/scramble: Open-Source Grammarly Alternative', 'description': 'Open-Source Grammarly Alternative. Contribute to zlwaterfield/scramble development by creating an account on GitHub.', 'language': 'en'}, page_content=\"Scramble is an open-source Chrome extension that leverages AI to enhance your writing directly in your browser. It's designed to be a more customizable and privacy-respecting alternative to Grammarly.\\nInstallation\"),\n",
       " Document(metadata={'source': 'https://github.com/zlwaterfield/scramble', 'title': 'GitHub - zlwaterfield/scramble: Open-Source Grammarly Alternative', 'description': 'Open-Source Grammarly Alternative. Contribute to zlwaterfield/scramble development by creating an account on GitHub.', 'language': 'en'}, page_content='Clone this repository or download the source code\\nOpen Chrome and go to chrome://extensions/\\nEnable \"Developer mode\" in the top right\\nClick \"Load unpacked\" and select the extension directory\\n\\n\\nCurrently pending review on Chrome Web Store. Once approved, you can install it from there.\\n\\nUsage\\n\\nHighlight text on any webpage\\nRight-click to open the context menu\\nSelect \"Scramble\" and choose a text enhancement option\\nWait for the AI to process and enhance your text\\n\\nScreenshot:'),\n",
       " Document(metadata={'source': 'https://github.com/zlwaterfield/scramble', 'title': 'GitHub - zlwaterfield/scramble: Open-Source Grammarly Alternative', 'description': 'Open-Source Grammarly Alternative. Contribute to zlwaterfield/scramble development by creating an account on GitHub.', 'language': 'en'}, page_content='Default Prompts\\nScramble comes with several pre-configured text enhancement options:\\n\\nFix spelling and grammar\\nImprove writing\\nMake more professional\\nSimplify text\\nSummarize text\\nExpand text\\nConvert to bullet points\\n\\nAPI Key\\nImportant: This extension requires an OpenAI API key to function. You need to provide your own API key in the extension settings. Please visit OpenAI to obtain an API key.\\nFuture Features\\nPlanned features include:'),\n",
       " Document(metadata={'source': 'https://github.com/zlwaterfield/scramble', 'title': 'GitHub - zlwaterfield/scramble: Open-Source Grammarly Alternative', 'description': 'Open-Source Grammarly Alternative. Contribute to zlwaterfield/scramble development by creating an account on GitHub.', 'language': 'en'}, page_content=\"Custom user-defined prompts\\nSupport for additional language models (LLMs)\\nEnhanced context awareness\\nIntegration with other AI services\\nView diff between original and improved text\\nUnderline grammar / spelling issues\\nLocal LLM so it doesn't rely on a third party\\n\\nContributing\\nContributions are welcome! Please feel free to submit a Pull Request.\\nLicense\\nMIT License\\n   \\n\\n\\n\\n\\n\\n\\n\\n\\nAbout\\n\\n        Open-Source Grammarly Alternative\\n      \\nResources\\n\\n\\n\\n\\n\\n        Readme\\n \\nLicense\"),\n",
       " Document(metadata={'source': 'https://github.com/zlwaterfield/scramble', 'title': 'GitHub - zlwaterfield/scramble: Open-Source Grammarly Alternative', 'description': 'Open-Source Grammarly Alternative. Contribute to zlwaterfield/scramble development by creating an account on GitHub.', 'language': 'en'}, page_content='MIT license\\n    \\n\\n\\n\\n\\n\\n\\n\\n\\nActivity\\n \\nStars\\n\\n\\n\\n\\n\\n820\\n      stars\\n \\nWatchers\\n\\n\\n\\n\\n\\n4\\n      watching\\n \\nForks\\n\\n\\n\\n\\n\\n27\\n      forks\\n \\n\\n\\n          Report repository\\n \\n\\n\\n\\n\\n\\n\\n\\n\\n\\n\\n\\nLanguages\\n\\n\\n\\n\\n\\n\\n\\n\\n\\n\\n\\nJavaScript\\n76.3%\\n\\n\\n\\n\\n\\n\\n\\nHTML\\n23.7%\\n\\n\\n\\n\\n\\n\\n\\n\\n\\n\\n\\n\\n\\n\\n\\nFooter\\n\\n\\n\\n\\n\\n\\n\\n\\n        © 2024 GitHub,\\xa0Inc.\\n      \\n\\n\\nFooter navigation\\n\\n\\nTerms\\n\\n\\nPrivacy\\n\\n\\nSecurity\\n\\n\\nStatus\\n\\n\\nDocs\\n\\n\\nContact\\n\\n\\n\\n\\n      Manage cookies\\n    \\n\\n\\n\\n\\n\\n      Do not share my personal information'),\n",
       " Document(metadata={'source': 'https://github.com/zlwaterfield/scramble', 'title': 'GitHub - zlwaterfield/scramble: Open-Source Grammarly Alternative', 'description': 'Open-Source Grammarly Alternative. Contribute to zlwaterfield/scramble development by creating an account on GitHub.', 'language': 'en'}, page_content='You can’t perform that action at this time.')]"
      ]
     },
     "execution_count": 50,
     "metadata": {},
     "output_type": "execute_result"
    }
   ],
   "source": [
    "all_splits"
   ]
  },
  {
   "cell_type": "code",
   "execution_count": 51,
   "metadata": {},
   "outputs": [],
   "source": [
    "from langchain_community.llms import Ollama\n",
    "from langchain import PromptTemplate\n",
    "\n",
    "model = Ollama(model='gemma2:2b', stop=[\"<|eot_id|>\"]) # Added the stop token"
   ]
  },
  {
   "cell_type": "code",
   "execution_count": 52,
   "metadata": {},
   "outputs": [],
   "source": [
    "user_prompt = \"Explain about Open-Source Grammarly Alternative.\"\n",
    "\n",
    "system_prompt = \"\"\"Think and write your step-by-step reasoning before responding.\n",
    "Make sure you don't deviate from json grammar.\n",
    "Please write all conversations in Korean(한국어).\n",
    "\"\"\""
   ]
  },
  {
   "cell_type": "code",
   "execution_count": 53,
   "metadata": {},
   "outputs": [
    {
     "name": "stderr",
     "output_type": "stream",
     "text": [
      "/home/kar/Projects/News_Summary/venv/lib/python3.12/site-packages/transformers/tokenization_utils_base.py:1601: FutureWarning: `clean_up_tokenization_spaces` was not set. It will be set to `True` by default. This behavior will be depracted in transformers v4.45, and will be then set to `False` by default. For more details check this issue: https://github.com/huggingface/transformers/issues/31884\n",
      "  warnings.warn(\n"
     ]
    }
   ],
   "source": [
    "from langchain.vectorstores import Chroma\n",
    "from langchain.embeddings import SentenceTransformerEmbeddings\n",
    "\n",
    "embeddings = SentenceTransformerEmbeddings(model_name=\"all-MiniLM-L6-v2\")\n",
    "vectorstore = Chroma.from_documents(documents=all_splits, embedding=embeddings)\n",
    "docs = vectorstore.similarity_search(user_prompt)"
   ]
  },
  {
   "cell_type": "code",
   "execution_count": 54,
   "metadata": {},
   "outputs": [],
   "source": [
    "# NOTE: No f-string and no whitespace in curly braces.\n",
    "template = \"\"\"\n",
    "    <|begin_of_text|>\n",
    "    <|start_header_id|>system<|end_header_id|>\n",
    "    {system_prompt}\n",
    "    <|eot_id|>\n",
    "    <|start_header_id|>user<|end_header_id|>\n",
    "    {user_prompt}\n",
    "    <|eot_id|>\n",
    "    <|start_header_id|>assistant<|end_header_id|>\n",
    "\"\"\"\n",
    "\n",
    "prompt = PromptTemplate(\n",
    "    input_variables=['system_prompt', 'user_prompt'],\n",
    "    template=template\n",
    ")\n",
    "from langchain.chains import RetrievalQA\n",
    "\n",
    "qachain = RetrievalQA.from_chain_type(model, retriever=vectorstore.as_retriever())\n",
    "\n",
    "response = qachain(prompt.format(system_prompt=system_prompt, user_prompt=user_prompt))"
   ]
  },
  {
   "cell_type": "code",
   "execution_count": 55,
   "metadata": {},
   "outputs": [
    {
     "data": {
      "text/plain": [
       "{'query': \"\\n    <|begin_of_text|>\\n    <|start_header_id|>system<|end_header_id|>\\n    Think and write your step-by-step reasoning before responding.\\nMake sure you don't deviate from json grammar.\\nPlease write all conversations in Korean(한국어).\\n\\n    <|eot_id|>\\n    <|start_header_id|>user<|end_header_id|>\\n    Explain about Open-Source Grammarly Alternative.\\n    <|eot_id|>\\n    <|start_header_id|>assistant<|end_header_id|>\\n\",\n",
       " 'result': '## Open-Source Grammarly Alternative Explained \\n\\nOpen-Source Grammarly Alternative는  Grammarly와 같은 오픈소스의 글쓰기 수정 도구로,  개인 사용자에게 더욱 자유로운 환경을 제공합니다. 먼저, **오픈소스**라는 것은 기존 Grammarly를 포함한 이러한 프로그램들은,  프로그램 개발에 참여할 수 있는 독립적인 코드 및 파일로 구성되어 있음을 의미합니다. \\n\\n이 도구는 다음과 같은 장점을 가지고 있습니다:\\n\\n* **자유로운 사용:** 개인 맞춤형 프로모터를 통해 언제 어디서든지 수정하는 기능\\n* **다양한 언어 지원**: 기존 Grammarly와 같이 다양한 언어의 글쓰기 수정 능력\\n* **더 나은 이해도** :  문맥에 대한 더욱 자세한 이해를 위한 확장된 컨텍스트 인식 기술\\n* **소프트웨어 통합**: 다른 AI 서비스와 연동하여 더욱 편리하고 효율적인 작품 수정을 지원\\n\\n\\n주요 특징들을 다시 한번 정리하면 다음과 같습니다:\\n\\n-  **개인 맞춤형 프로모터:** 사용자의 필요에 따라 독립적으로 수정 가능\\n- **다양한 언어 지원:**  글쓰기 수정 기능을 위해 다양한 언어를 지원 \\n- **더 나은 이해도**: 문맥에 대한 더욱 자세한 이해를 위한 확장된 컨텍스트 인식 기술\\n- **소프트웨어 통합**: 다른 AI 서비스와 연동하여 더욱 편리하고 효율적인 작품 수정을 지원\\n\\n\\n'}"
      ]
     },
     "execution_count": 55,
     "metadata": {},
     "output_type": "execute_result"
    }
   ],
   "source": [
    "response"
   ]
  },
  {
   "cell_type": "code",
   "execution_count": 57,
   "metadata": {},
   "outputs": [
    {
     "name": "stdout",
     "output_type": "stream",
     "text": [
      "## Open-Source Grammarly Alternative Explained \n",
      "\n",
      "Open-Source Grammarly Alternative는  Grammarly와 같은 오픈소스의 글쓰기 수정 도구로,  개인 사용자에게 더욱 자유로운 환경을 제공합니다. 먼저, **오픈소스**라는 것은 기존 Grammarly를 포함한 이러한 프로그램들은,  프로그램 개발에 참여할 수 있는 독립적인 코드 및 파일로 구성되어 있음을 의미합니다. \n",
      "\n",
      "이 도구는 다음과 같은 장점을 가지고 있습니다:\n",
      "\n",
      "* **자유로운 사용:** 개인 맞춤형 프로모터를 통해 언제 어디서든지 수정하는 기능\n",
      "* **다양한 언어 지원**: 기존 Grammarly와 같이 다양한 언어의 글쓰기 수정 능력\n",
      "* **더 나은 이해도** :  문맥에 대한 더욱 자세한 이해를 위한 확장된 컨텍스트 인식 기술\n",
      "* **소프트웨어 통합**: 다른 AI 서비스와 연동하여 더욱 편리하고 효율적인 작품 수정을 지원\n",
      "\n",
      "\n",
      "주요 특징들을 다시 한번 정리하면 다음과 같습니다:\n",
      "\n",
      "-  **개인 맞춤형 프로모터:** 사용자의 필요에 따라 독립적으로 수정 가능\n",
      "- **다양한 언어 지원:**  글쓰기 수정 기능을 위해 다양한 언어를 지원 \n",
      "- **더 나은 이해도**: 문맥에 대한 더욱 자세한 이해를 위한 확장된 컨텍스트 인식 기술\n",
      "- **소프트웨어 통합**: 다른 AI 서비스와 연동하여 더욱 편리하고 효율적인 작품 수정을 지원\n",
      "\n",
      "\n",
      "\n"
     ]
    }
   ],
   "source": [
    "print(response['result'])"
   ]
  }
 ],
 "metadata": {
  "kernelspec": {
   "display_name": "venv",
   "language": "python",
   "name": "python3"
  },
  "language_info": {
   "codemirror_mode": {
    "name": "ipython",
    "version": 3
   },
   "file_extension": ".py",
   "mimetype": "text/x-python",
   "name": "python",
   "nbconvert_exporter": "python",
   "pygments_lexer": "ipython3",
   "version": "3.12.6"
  }
 },
 "nbformat": 4,
 "nbformat_minor": 2
}
