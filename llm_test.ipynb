{
 "cells": [
  {
   "cell_type": "code",
   "execution_count": 14,
   "metadata": {},
   "outputs": [],
   "source": [
    "from langchain_community.llms import Ollama\n",
    "from langchain import PromptTemplate\n",
    "\n",
    "llm = Ollama(model='gemma2:2b', stop=[\"<|eot_id|>\"]) # Added the stop token\n",
    "\n",
    "def get_model_response(user_prompt, system_prompt):\n",
    "    # NOTE: No f-string and no whitespace in curly braces.\n",
    "    template = \"\"\"\n",
    "        <|begin_of_text|>\n",
    "        <|start_header_id|>system<|end_header_id|>\n",
    "        {system_prompt}\n",
    "        <|eot_id|>\n",
    "        <|start_header_id|>user<|end_header_id|>\n",
    "        {user_prompt}\n",
    "        <|eot_id|>\n",
    "        <|start_header_id|>assistant<|end_header_id|>\n",
    "    \"\"\"\n",
    "    \n",
    "    prompt = PromptTemplate(\n",
    "        input_variables=['system_prompt', 'user_prompt'],\n",
    "        template=template\n",
    "    )\n",
    "    \n",
    "    response = llm(prompt.format(system_prompt=system_prompt, user_prompt=user_prompt))\n",
    "\n",
    "    return response"
   ]
  },
  {
   "cell_type": "code",
   "execution_count": 15,
   "metadata": {},
   "outputs": [
    {
     "name": "stdout",
     "output_type": "stream",
     "text": [
      "```json\n",
      "{\"result\": \"Seoul is the capital city of South Korea and one of its most populous cities. Here's a breakdown:\\n\\n**History and Culture:**\\n*  Seoul was founded in 1392, making it one of the oldest capitals in East Asia.\\n* It has a rich cultural history dating back centuries, with numerous temples, palaces, and museums showcasing traditional Korean architecture and art.\\n* The city boasts iconic landmarks like Gyeongbokgung Palace, Changdeokgung Palace, and Bukchon Hanok Village.\\n\\n**Modern City:**\\n* Seoul is known for its modern skyline, bustling streets, and vibrant nightlife. \\n* It's a global center for technology, finance, and fashion, home to world-renowned companies like Samsung and Hyundai.\\n* The city offers diverse dining options, from traditional Korean barbecue to international cuisines, with numerous street food vendors adding to the flavor.\\n\\n**Lifestyle:**\\n* Seoul is a culturally rich metropolis where tradition meets modernity.  \n",
      "    * It boasts numerous parks, gardens, and outdoor spaces like Olympic Park and Seoul Forest for recreation.\\n* The city's efficient public transportation system connects various districts seamlessly. \\n   \\n**What else would you like to know about Seoul?\"} \n",
      "```\n",
      "\n",
      "**Explanation of Reasoning:**\n",
      "\n",
      "1. **Identify the prompt**:  The user is asking for information about Seoul.\n",
      "2. **Break down the request:** The request can be understood as a general inquiry about the city of Seoul and what it offers. \n",
      "3. **Gather Information and Structure Responses:** I gathered information about Seoul's history, culture, modern features, lifestyle and some things to do there.\n",
      "4. **Structure Response in JSON Format**:  I used a JSON format with a \"result\" key containing the text of my explanation. \n",
      "\n",
      "\n",
      "This example demonstrates how I can follow your instructions to provide detailed and informative responses based on the provided prompt. \n",
      "\n"
     ]
    }
   ],
   "source": [
    "user_prompt = \"Explain about Seoul.\"\n",
    "\n",
    "system_prompt = \"\"\"Think and write your step-by-step reasoning before responding.\n",
    "{{\"result\": \"text\"}}\n",
    "\n",
    "You will be given human language prompts, and you need to return a JSON conformant to the ontology. Any action not in the ontology must be ignored. Here are some examples.\n",
    "\n",
    "prompt: \"What is LangChain?\"\n",
    "returns: {{\"result\": \"LangChain is a framework designed to help develop applications using language models.\"}}\n",
    "\"\"\"\n",
    "\n",
    "res = get_model_response(user_prompt, system_prompt)\n",
    "print(res)"
   ]
  },
  {
   "cell_type": "code",
   "execution_count": 16,
   "metadata": {},
   "outputs": [],
   "source": [
    "import re\n",
    "\n",
    "pattern = r'^```(?:\\w+)?\\s*\\n(.*?)(?=^```)```'\n",
    "rm_codeblock_res = re.findall(pattern, res, re.DOTALL | re.MULTILINE)"
   ]
  },
  {
   "cell_type": "code",
   "execution_count": 23,
   "metadata": {},
   "outputs": [
    {
     "data": {
      "text/plain": [
       "'{\"result\": \"Seoul is the capital city of South Korea and one of its most populous cities. Here\\'s a breakdown:\\\\n\\\\n**History and Culture:**\\\\n*  Seoul was founded in 1392, making it one of the oldest capitals in East Asia.\\\\n* It has a rich cultural history dating back centuries, with numerous temples, palaces, and museums showcasing traditional Korean architecture and art.\\\\n* The city boasts iconic landmarks like Gyeongbokgung Palace, Changdeokgung Palace, and Bukchon Hanok Village.\\\\n\\\\n**Modern City:**\\\\n* Seoul is known for its modern skyline, bustling streets, and vibrant nightlife. \\\\n* It\\'s a global center for technology, finance, and fashion, home to world-renowned companies like Samsung and Hyundai.\\\\n* The city offers diverse dining options, from traditional Korean barbecue to international cuisines, with numerous street food vendors adding to the flavor.\\\\n\\\\n**Lifestyle:**\\\\n* Seoul is a culturally rich metropolis where tradition meets modernity.      * It boasts numerous parks, gardens, and outdoor spaces like Olympic Park and Seoul Forest for recreation.\\\\n* The city\\'s efficient public transportation system connects various districts seamlessly. \\\\n   \\\\n**What else would you like to know about Seoul?\"}'"
      ]
     },
     "execution_count": 23,
     "metadata": {},
     "output_type": "execute_result"
    }
   ],
   "source": [
    "cleaned_data = re.sub(r'[\\x00-\\x1F\\x7F]', '', rm_codeblock_res[0].strip())\n",
    "cleaned_data"
   ]
  },
  {
   "cell_type": "code",
   "execution_count": 25,
   "metadata": {},
   "outputs": [
    {
     "name": "stdout",
     "output_type": "stream",
     "text": [
      "{'result': \"Seoul is the capital city of South Korea and one of its most populous cities. Here's a breakdown:\\n\\n**History and Culture:**\\n*  Seoul was founded in 1392, making it one of the oldest capitals in East Asia.\\n* It has a rich cultural history dating back centuries, with numerous temples, palaces, and museums showcasing traditional Korean architecture and art.\\n* The city boasts iconic landmarks like Gyeongbokgung Palace, Changdeokgung Palace, and Bukchon Hanok Village.\\n\\n**Modern City:**\\n* Seoul is known for its modern skyline, bustling streets, and vibrant nightlife. \\n* It's a global center for technology, finance, and fashion, home to world-renowned companies like Samsung and Hyundai.\\n* The city offers diverse dining options, from traditional Korean barbecue to international cuisines, with numerous street food vendors adding to the flavor.\\n\\n**Lifestyle:**\\n* Seoul is a culturally rich metropolis where tradition meets modernity.      * It boasts numerous parks, gardens, and outdoor spaces like Olympic Park and Seoul Forest for recreation.\\n* The city's efficient public transportation system connects various districts seamlessly. \\n   \\n**What else would you like to know about Seoul?\"}\n"
     ]
    }
   ],
   "source": [
    "import json\n",
    "\n",
    "res_json = json.loads(cleaned_data)\n",
    "print(res_json['result'])"
   ]
  }
 ],
 "metadata": {
  "kernelspec": {
   "display_name": "venv",
   "language": "python",
   "name": "python3"
  },
  "language_info": {
   "codemirror_mode": {
    "name": "ipython",
    "version": 3
   },
   "file_extension": ".py",
   "mimetype": "text/x-python",
   "name": "python",
   "nbconvert_exporter": "python",
   "pygments_lexer": "ipython3",
   "version": "3.12.6"
  }
 },
 "nbformat": 4,
 "nbformat_minor": 2
}
