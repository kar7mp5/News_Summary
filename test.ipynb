{
 "cells": [
  {
   "cell_type": "code",
   "execution_count": 1,
   "metadata": {},
   "outputs": [
    {
     "name": "stderr",
     "output_type": "stream",
     "text": [
      "USER_AGENT environment variable not set, consider setting it to identify your requests.\n",
      "/home/kar/Projects/News_Summary/venv/lib/python3.12/site-packages/pydantic/_internal/_fields.py:132: UserWarning: Field \"model_name\" in HuggingFaceInferenceAPIEmbeddings has conflict with protected namespace \"model_\".\n",
      "\n",
      "You may be able to resolve this warning by setting `model_config['protected_namespaces'] = ()`.\n",
      "  warnings.warn(\n",
      "/tmp/ipykernel_2418/3825233161.py:31: LangChainDeprecationWarning: The class `HuggingFaceEmbeddings` was deprecated in LangChain 0.2.2 and will be removed in 1.0. An updated version of the class exists in the langchain-huggingface package and should be used instead. To use it run `pip install -U langchain-huggingface` and import as `from langchain_huggingface import HuggingFaceEmbeddings`.\n",
      "  embeddings = SentenceTransformerEmbeddings(model_name=\"all-MiniLM-L6-v2\")\n",
      "/home/kar/Projects/News_Summary/venv/lib/python3.12/site-packages/sentence_transformers/cross_encoder/CrossEncoder.py:13: TqdmWarning: IProgress not found. Please update jupyter and ipywidgets. See https://ipywidgets.readthedocs.io/en/stable/user_install.html\n",
      "  from tqdm.autonotebook import tqdm, trange\n",
      "/home/kar/Projects/News_Summary/venv/lib/python3.12/site-packages/transformers/tokenization_utils_base.py:1601: FutureWarning: `clean_up_tokenization_spaces` was not set. It will be set to `True` by default. This behavior will be depracted in transformers v4.45, and will be then set to `False` by default. For more details check this issue: https://github.com/huggingface/transformers/issues/31884\n",
      "  warnings.warn(\n",
      "/tmp/ipykernel_2418/3825233161.py:54: LangChainDeprecationWarning: The method `Chain.__call__` was deprecated in langchain 0.1.0 and will be removed in 1.0. Use invoke instead.\n",
      "  response = qachain(prompt.format(system_prompt=system_prompt, user_prompt=user_prompt))\n"
     ]
    },
    {
     "name": "stdout",
     "output_type": "stream",
     "text": [
      "This document outlines the features, capabilities, contributions, and resources of a grammarly alternative called \"Scramble\". \n",
      "\n",
      "Here's a breakdown of the content:\n",
      "\n",
      "**Features:**\n",
      "\n",
      "* **Custom user-defined prompts**: Users can create personalized prompts for text enhancement.\n",
      "* **Support for additional language models (LLMs)**:  It supports various LLMs, expanding its functionality and accuracy. \n",
      "* **Enhanced context awareness**: It understands the surrounding text better, leading to improved editing results. \n",
      "* **Integration with other AI services:** It can be integrated with other AI tools, creating a comprehensive platform for users.\n",
      "* **View diff between original and improved text:** Users can compare their edited text against the original version to understand changes made. \n",
      "* **Underline grammar / spelling issues:**  Issues are highlighted in the text for easy correction.\n",
      "* **Local LLM**: It runs locally, reducing dependence on third-party services for processing.\n",
      "\n",
      "**Contributing & Licensing:**\n",
      "\n",
      "* **Contributions are welcome**: Users can contribute code and suggestions through Pull Requests. \n",
      "* **MIT License**: The software is open source with an MIT license, allowing users to freely use and modify the code.\n",
      "\n",
      "\n",
      "**About \"Scramble\":**\n",
      "\n",
      "* It aims to provide a free and accessible alternative to Grammarly. \n",
      "* It highlights its open-source nature, user-friendly interface, and robust features like spelling correction, grammar improvement, professional writing assistance, text summarization, and bullet point generation.\n",
      "\n",
      "\n",
      "**API Key & Future Features:**\n",
      "\n",
      "* **API Key**: The extension needs an OpenAI API key for functionality; users must obtain this separately from OpenAI. \n",
      "* **Future Features**:  The document mentions upcoming features like add-ons and advanced security measures, indicating continuous development and improvements.\n",
      "\n",
      "\n",
      "\n",
      "Overall, the document provides a comprehensive overview of \"Scramble,\" emphasizing its user-friendliness, customization options, and potential for professional writing assistance. It also highlights the software's commitment to open source collaboration. \n",
      "\n"
     ]
    },
    {
     "name": "stderr",
     "output_type": "stream",
     "text": [
      "/home/kar/Projects/News_Summary/venv/lib/python3.12/site-packages/transformers/tokenization_utils_base.py:1601: FutureWarning: `clean_up_tokenization_spaces` was not set. It will be set to `True` by default. This behavior will be depracted in transformers v4.45, and will be then set to `False` by default. For more details check this issue: https://github.com/huggingface/transformers/issues/31884\n",
      "  warnings.warn(\n"
     ]
    },
    {
     "name": "stdout",
     "output_type": "stream",
     "text": [
      "This document describes a grammar-enhancing extension for web browsers called Scramble. \n",
      "\n",
      "**Here's a summary of the content:**\n",
      "\n",
      "* **Open-Source and Local:** Scramble is an open-source project with a local LLM, meaning it doesn't rely on external services for its functionality.  \n",
      "* **Customization:** The extension offers custom user prompts to tailor text enhancement features based on user needs. \n",
      "* **AI Language Model Integration:** Scramble integrates advanced language models like LLMs to enhance written content. \n",
      "* **Enhanced Context Awareness:** The tool is designed to provide more accurate and contextually relevant suggestions during text editing.\n",
      "* **Improved User Experience:**  View differences between original and improved text, identify grammar/spelling errors with underlining features, and receive helpful writing tips through customizable prompts (e.g., \"Make more professional,\" \"Summarize text\"). \n",
      "* **Contributions:** The development of Scramble is open for contributions, encouraging community involvement through pull requests. \n",
      "* **API Key:**  The extension requires an OpenAI API key to function; users need to obtain one from OpenAI. \n",
      "* **Future Development:** Planned features for the extension include expanding text input fields and potentially allowing interaction with other AI services.\n",
      "\n",
      "**Overall, this document provides an overview of the Scramble grammar-enhancing extension and its functionalities.** \n",
      "\n"
     ]
    },
    {
     "name": "stderr",
     "output_type": "stream",
     "text": [
      "/home/kar/Projects/News_Summary/venv/lib/python3.12/site-packages/transformers/tokenization_utils_base.py:1601: FutureWarning: `clean_up_tokenization_spaces` was not set. It will be set to `True` by default. This behavior will be depracted in transformers v4.45, and will be then set to `False` by default. For more details check this issue: https://github.com/huggingface/transformers/issues/31884\n",
      "  warnings.warn(\n"
     ]
    },
    {
     "name": "stdout",
     "output_type": "stream",
     "text": [
      "##  Scrambling Text with OpenAI: A Summary\n",
      "\n",
      "This document describes a grammar-enhancing tool called \"Scramble\" which aims to make writing better through AI. Here's a breakdown of its features and capabilities: \n",
      "\n",
      "**Key Features:**\n",
      "\n",
      "* **Customizable Prompts:** Users can choose from various pre-configured prompts for specific tasks like spelling & grammar correction, writing improvement, or summarizing text.\n",
      "* **Local LLM:**  Scramble runs locally on your computer, reducing reliance on third-party services and improving speed and security. \n",
      "* **Enhanced Context Awareness:**  Scramble considers the context of text to understand user intent better. \n",
      "* **Integration with other AI Services:**  The tool can interact with other AI services for a more comprehensive writing experience.\n",
      "\n",
      "**Development & Contributions:**\n",
      "\n",
      "* The development of \"Scramble\" is open-source, encouraging community contributions through Pull Requests.  \n",
      "* It's licensed under the MIT License, ensuring its freedom and accessibility for users. \n",
      "\n",
      "**Additional Information:**\n",
      "\n",
      "* **OpenAI API Key:** Users need to provide their own OpenAI API key to access features. This helps maintain the tool's functionality by allowing it to connect with OpenAI's powerful language models for processing text.\n",
      "* **Future Features:** \"Scramble\" is actively developing new features, including more advanced text manipulation capabilities and integrations with different platforms like Apple.\n",
      "\n",
      "\n",
      "**Overall:** \n",
      "\n",
      "\"Scramble\" offers a user-friendly experience for improving writing skills and exploring the potential of AI in creative tasks. It emphasizes local processing, customization, and integration for greater control and efficiency.  \n",
      "\n"
     ]
    },
    {
     "name": "stderr",
     "output_type": "stream",
     "text": [
      "/home/kar/Projects/News_Summary/venv/lib/python3.12/site-packages/transformers/tokenization_utils_base.py:1601: FutureWarning: `clean_up_tokenization_spaces` was not set. It will be set to `True` by default. This behavior will be depracted in transformers v4.45, and will be then set to `False` by default. For more details check this issue: https://github.com/huggingface/transformers/issues/31884\n",
      "  warnings.warn(\n"
     ]
    },
    {
     "name": "stdout",
     "output_type": "stream",
     "text": [
      "## Scrambling Text with OpenAI: A Summarization \n",
      "\n",
      "This text discusses an open-source grammar and writing improvement tool called \"Scramble.\"  Here's a breakdown of the information provided:\n",
      "\n",
      "**Key Features:**\n",
      "\n",
      "* **Custom Prompts:** Users can personalize their prompts to achieve specific goals like improving clarity, professionalism, or summarizing text.\n",
      "* **Local Language Model:**  The Scramble extension runs locally without reliance on external services (e.g., OpenAI servers), ensuring privacy and faster processing. \n",
      "* **Enhanced Context Awareness:** The tool considers the surrounding text context for better analysis and improvement suggestions.\n",
      "* **Integration with Other AI Services:** It works seamlessly with various other AI services, expanding its functionality and capabilities.\n",
      "* **View Difference:** Users can easily compare original text to the improved version for a clearer understanding of changes made by the tool. \n",
      "* **Grammar/Spelling Correction:**  The tool highlights grammatical and spelling errors for better correction.\n",
      "\n",
      "**Contributing & License:**\n",
      "\n",
      "* The extension welcomes contributions from developers, encouraging community involvement through Pull Requests (PRs).\n",
      "* It follows an MIT License, promoting open-source collaboration and accessibility. \n",
      "\n",
      "\n",
      "**Additional Information:**\n",
      "\n",
      "* **API Key:** To utilize the Scrambling tool, you need to obtain an API key for OpenAI. This will allow the tool to connect to their service and access advanced language processing capabilities. \n",
      "* **Future Features:**  The text suggests that future development includes expanding its functionalities even further. \n",
      "\n",
      "\n",
      "**Overall, Scramble is an open-source project that aims to enhance writing through AI-powered features. Its emphasis on local computation, context awareness, and customization positions it as a promising alternative to traditional grammar tools.**\n",
      "\n",
      "\n",
      "\n",
      "\n",
      "\n"
     ]
    },
    {
     "name": "stderr",
     "output_type": "stream",
     "text": [
      "/home/kar/Projects/News_Summary/venv/lib/python3.12/site-packages/transformers/tokenization_utils_base.py:1601: FutureWarning: `clean_up_tokenization_spaces` was not set. It will be set to `True` by default. This behavior will be depracted in transformers v4.45, and will be then set to `False` by default. For more details check this issue: https://github.com/huggingface/transformers/issues/31884\n",
      "  warnings.warn(\n"
     ]
    },
    {
     "name": "stdout",
     "output_type": "stream",
     "text": [
      "## Scramle의 내용 요약 및 설명 \n",
      "\n",
      "**1. Scrample의 주요 기능:**\n",
      "\n",
      "* **맞춤형 제안:** 사용자 정의 가능한 프롬프트를 통해 글쓰기 작업을 위한 추가적인 지원을 제공합니다.\n",
      "* **다양한 언어 모델:**  Google, Meta, OpenAI 등 다양한 LLM (Large Language Model)와 연동하여 글 쓸 수 있는 능력을 넓힙니다.\n",
      "* **이미지 포함:** 이미지의 명확성과 정렬을 위해 AI 기술 사용하여 오류를 줄이는 기능입니다.\n",
      "* **개인화된 작업 환경:** LLM 기반 개별 맞춤형 작업 환경 제공, 글쓰기 작업을 위한 특정한 방식으로 진행을 지원합니다. \n",
      "* **AI 상담**:  Grammarly와 비슷한 기능을 제공하는 제품이며, 이를 통해 편의성과 효율성 향상에 큰 역할을 합니다.\n",
      "\n",
      "**2. 특징:**\n",
      "\n",
      "* **내부 LLM:**  자동으로 업데이트되고 사용자에게 필요로 하는 경우 자동으로 작동합니다. \n",
      "* **기타 AI 서비스 연계:** 스크랩은 기존 서비스와의 연동, 효율성을 높입니다. \n",
      "* **사용자 정의:**  스크램블은 사용자가 원하는 방식으로 글쓰기를 할 수 있도록 제한을 없애고 개인화를 지원합니다. \n",
      "\n",
      "**3. 사용 환경:** \n",
      "   *  API 키: API 연결을 통해 작동하며, OpenAI API 키 등록이 필요합니다.\n",
      "\n",
      "\n",
      "**4. 미래 개발:** \n",
      "\n",
      "   * **Apple 플랫폼:** Apple의 스마트폰과 같은 다양한 기기에서 사용할 수 있도록 개발될 예정입니다.\n",
      "   * **다양한 분야 적용:**  사람들이 글쓰기를 편하게 만들고 효율성을 높일 수 있는 다양한 플랫폼에 적용 가능합니다.\n",
      "\n",
      "\n",
      "**결론:**\n",
      "\n",
      "Scramble는 기존의 AI-기반 글쓰기 도구를 혁신하는 기술이라고 할 수 있으며, 사용자에게 더욱 개인화된 작업 환경을 제공할 것입니다.  \n",
      "\n",
      "\n",
      "\n",
      "\n"
     ]
    },
    {
     "name": "stderr",
     "output_type": "stream",
     "text": [
      "/home/kar/Projects/News_Summary/venv/lib/python3.12/site-packages/transformers/tokenization_utils_base.py:1601: FutureWarning: `clean_up_tokenization_spaces` was not set. It will be set to `True` by default. This behavior will be depracted in transformers v4.45, and will be then set to `False` by default. For more details check this issue: https://github.com/huggingface/transformers/issues/31884\n",
      "  warnings.warn(\n"
     ]
    },
    {
     "name": "stdout",
     "output_type": "stream",
     "text": [
      "This document describes an AI text-processing tool called Scramble, highlighting its features, contributions, licensing information, and potential future development.  \n",
      "\n",
      "The content does not contain a direct answer to the question \"What is the purpose of Scramble?\". \n",
      "\n",
      "\n",
      "It focuses on outlining:\n",
      "\n",
      "* **Features:** Custom user prompts, support for various language models (LLMs), enhanced context awareness, integration with other AI services, etc.\n",
      "* **Technical Aspects:** View diff between original and improved text, grammar/spelling issue highlighting, and a local LLM to avoid dependence on external resources. \n",
      "* **Contribution & Licensing:**  Open-source nature and details on the MIT license. \n",
      "\n",
      "\n",
      "To understand the purpose of Scramble, you would need further information about its intended use within an AI or language processing system.  \n",
      "\n"
     ]
    },
    {
     "name": "stderr",
     "output_type": "stream",
     "text": [
      "/home/kar/Projects/News_Summary/venv/lib/python3.12/site-packages/transformers/tokenization_utils_base.py:1601: FutureWarning: `clean_up_tokenization_spaces` was not set. It will be set to `True` by default. This behavior will be depracted in transformers v4.45, and will be then set to `False` by default. For more details check this issue: https://github.com/huggingface/transformers/issues/31884\n",
      "  warnings.warn(\n"
     ]
    },
    {
     "name": "stdout",
     "output_type": "stream",
     "text": [
      "The provided text focuses on explaining various aspects of an AI writing tool named \"Scramble\" including its features, customization options, and API requirements. \n",
      "\n",
      "It does not provide a question for me to answer.  Therefore, I cannot answer your query without one. \n",
      "\n"
     ]
    },
    {
     "name": "stderr",
     "output_type": "stream",
     "text": [
      "/home/kar/Projects/News_Summary/venv/lib/python3.12/site-packages/transformers/tokenization_utils_base.py:1601: FutureWarning: `clean_up_tokenization_spaces` was not set. It will be set to `True` by default. This behavior will be depracted in transformers v4.45, and will be then set to `False` by default. For more details check this issue: https://github.com/huggingface/transformers/issues/31884\n",
      "  warnings.warn(\n"
     ]
    },
    {
     "name": "stdout",
     "output_type": "stream",
     "text": [
      "This document describes a grammar-enhancing AI tool called \"Scramble\" that utilizes OpenAI's language model and has several custom features, including user-defined prompts. \n",
      "\n",
      "**Question:** What is the main purpose of the \"Scramble\" tool described in this text?\n",
      "\n",
      "**Answer:** The Scramble tool aims to enhance writing, improve grammar and spelling, summarize text, and make text more professional using a customizable AI engine powered by OpenAI's language model.  \n",
      "\n"
     ]
    },
    {
     "name": "stderr",
     "output_type": "stream",
     "text": [
      "/home/kar/Projects/News_Summary/venv/lib/python3.12/site-packages/transformers/tokenization_utils_base.py:1601: FutureWarning: `clean_up_tokenization_spaces` was not set. It will be set to `True` by default. This behavior will be depracted in transformers v4.45, and will be then set to `False` by default. For more details check this issue: https://github.com/huggingface/transformers/issues/31884\n",
      "  warnings.warn(\n"
     ]
    },
    {
     "name": "stdout",
     "output_type": "stream",
     "text": [
      "This document details the features, capabilities, contribution process, and license of a text enhancement tool called \"Scramble\". \n",
      "\n",
      "Here's a summary of key points: \n",
      "\n",
      "* **Open-Source Alternative:** Scramble is an open-source alternative to Grammarly.  \n",
      "* **Customization:** It allows users to configure custom prompts for specific writing needs (e.g., fix spelling and grammar, improve tone).\n",
      "* **Local Language Model:** The tool features a local language model, meaning it doesn't rely on third-party services for processing, potentially improving speed and security. \n",
      "* **Integration with Other AI Services:**  It can be integrated with other AI tools (not explicitly named in the document) for more complex tasks like text summarization or generation.\n",
      "* **API Key Required:** The tool needs an OpenAI API key to function, which users will need to obtain from OpenAI. \n",
      "\n",
      "\n",
      "**What I Don't Know:**\n",
      "The document doesn't provide specific details about its algorithms, how it determines user responses, or the language model training data used in the tool.  \n",
      "\n",
      "\n",
      "Let me know if you have any more questions.  \n",
      "\n"
     ]
    },
    {
     "name": "stderr",
     "output_type": "stream",
     "text": [
      "/home/kar/Projects/News_Summary/venv/lib/python3.12/site-packages/transformers/tokenization_utils_base.py:1601: FutureWarning: `clean_up_tokenization_spaces` was not set. It will be set to `True` by default. This behavior will be depracted in transformers v4.45, and will be then set to `False` by default. For more details check this issue: https://github.com/huggingface/transformers/issues/31884\n",
      "  warnings.warn(\n"
     ]
    },
    {
     "name": "stdout",
     "output_type": "stream",
     "text": [
      "This document details the features, resources, and technical aspects of a grammar correction/enhancement tool called \"Scramble\".  \n",
      "\n",
      "**Here's what we can learn about it:**\n",
      "\n",
      "* **Open-Source & Customizable:** It is an open-source alternative to Grammarly. Users can customize prompts for specific text enhancement needs. \n",
      "* **Local Processing (No Reliance on Third Party):** The tool uses a local LLM, which means it doesn't depend on third-party servers for processing.\n",
      "* **Improved Text Generation:** It utilizes language models to enhance the original text in various ways like spelling correction, grammar improvement, and writing style refinement. \n",
      "* **Multiple Prompts for Various Needs:** The tool offers a range of pre-configured prompts like \"Fix spelling and grammar\", \"Improve writing\", and more.\n",
      "* **API Key & Integration:** To utilize the tool, users need to provide an OpenAI API key to access its processing capabilities.\n",
      "\n",
      "\n",
      "**The Document doesn't provide specific answers to questions such as:**\n",
      "\n",
      "* The exact technical details of how the LLM works \n",
      "* What specific prompts are available for a variety of needs\n",
      "* A comprehensive explanation of the integration with other AI services \n",
      "\n",
      "\n",
      "\n",
      "Let me know if you have any more questions about \"Scramble\". \n"
     ]
    },
    {
     "name": "stderr",
     "output_type": "stream",
     "text": [
      "/home/kar/Projects/News_Summary/venv/lib/python3.12/site-packages/transformers/tokenization_utils_base.py:1601: FutureWarning: `clean_up_tokenization_spaces` was not set. It will be set to `True` by default. This behavior will be depracted in transformers v4.45, and will be then set to `False` by default. For more details check this issue: https://github.com/huggingface/transformers/issues/31884\n",
      "  warnings.warn(\n"
     ]
    },
    {
     "name": "stdout",
     "output_type": "stream",
     "text": [
      "This document describes a grammar and writing tool called \"Scramble\". \n",
      "\n",
      "It explains its features such as user-defined prompts, integration with other AI services, enhanced context awareness, and local LLM functionality.  The document also touches on contributing to the project, licensing, and provides information on how to use it.  \n",
      "\n",
      "\n",
      "**Here are some of the key takeaways:**\n",
      "\n",
      "* **Scramble is an open-source alternative to Grammarly.**\n",
      "* **It integrates with language models (LLMs) for writing enhancement.** \n",
      "* **Users can customize prompts for specific writing goals.**\n",
      "* **The tool utilizes a local LLM for offline processing.** \n",
      "* **Security and IANA considerations are mentioned in the document.**\n",
      "\n",
      "**What is NOT clear from this document:**  \n",
      " \n",
      "- The specific details of \"Scramble's\" user interface. \n",
      "- The exact functionality of the API key. \n",
      "- More information about the project's development roadmap.\n",
      "\n",
      "\n",
      "\n",
      "Let me know if you have any other questions about Scramble or its features! \n",
      "\n"
     ]
    },
    {
     "name": "stderr",
     "output_type": "stream",
     "text": [
      "/home/kar/Projects/News_Summary/venv/lib/python3.12/site-packages/transformers/tokenization_utils_base.py:1601: FutureWarning: `clean_up_tokenization_spaces` was not set. It will be set to `True` by default. This behavior will be depracted in transformers v4.45, and will be then set to `False` by default. For more details check this issue: https://github.com/huggingface/transformers/issues/31884\n",
      "  warnings.warn(\n"
     ]
    },
    {
     "name": "stdout",
     "output_type": "stream",
     "text": [
      "This document describes an open-source alternative to Grammarly. \n",
      "\n",
      "It provides details on how the tool works, its features, and contribution guidelines.  Here are some highlights:\n",
      "\n",
      "\n",
      "* **Open-Source Nature:** The code is publicly available, encouraging collaboration and customization. \n",
      "* **Custom Prompts:** Users can create specific prompts tailored for their needs and writing styles.\n",
      "* **Local LLM:**  The tool utilizes a local language model, reducing dependency on external services. \n",
      "* **Enhanced Context Awareness:** The tool considers the context of a text passage when providing improvements. \n",
      "\n",
      "\n",
      "**How to Use It:**\n",
      "\n",
      "The document provides examples of how the tool works with different types of queries:\n",
      "   * Simple requests (e.g., correcting spelling errors)\n",
      "   * Requests that include location information for more specific results \n",
      "   * Requests that utilize indirect responses\n",
      "\n",
      "The document also emphasizes security considerations and the importance of having an OpenAI API key to use the tool.\n",
      "\n",
      "\n",
      "Let me know if you have other questions about the content. \n",
      "\n"
     ]
    },
    {
     "name": "stderr",
     "output_type": "stream",
     "text": [
      "/home/kar/Projects/News_Summary/venv/lib/python3.12/site-packages/transformers/tokenization_utils_base.py:1601: FutureWarning: `clean_up_tokenization_spaces` was not set. It will be set to `True` by default. This behavior will be depracted in transformers v4.45, and will be then set to `False` by default. For more details check this issue: https://github.com/huggingface/transformers/issues/31884\n",
      "  warnings.warn(\n"
     ]
    },
    {
     "name": "stdout",
     "output_type": "stream",
     "text": [
      "The provided text discusses the features, contributions, resources, and API requirements of a specific open-source grammar checking tool.  \n",
      "\n",
      "It does not contain the answer to your question about what is involved in creating an AI assistant. \n",
      "\n",
      "\n",
      "Let me know if you have other questions! 😊\n",
      "\n"
     ]
    },
    {
     "name": "stderr",
     "output_type": "stream",
     "text": [
      "/home/kar/Projects/News_Summary/venv/lib/python3.12/site-packages/transformers/tokenization_utils_base.py:1601: FutureWarning: `clean_up_tokenization_spaces` was not set. It will be set to `True` by default. This behavior will be depracted in transformers v4.45, and will be then set to `False` by default. For more details check this issue: https://github.com/huggingface/transformers/issues/31884\n",
      "  warnings.warn(\n"
     ]
    },
    {
     "name": "stdout",
     "output_type": "stream",
     "text": [
      "The provided text describes a project called \"Scramble\", an open-source grammar and writing enhancement tool, and includes information about its features, contributions, license, and resources. \n",
      "\n",
      "**Question:**  What are the key features of Scramble?\n",
      "\n",
      "**Answer:**  Scramble provides several pre-configured text enhancement options like: \n",
      "\n",
      "* Fix spelling and grammar\n",
      "* Improve writing\n",
      "* Make more professional\n",
      "* Simplify text\n",
      "* Summarize text \n",
      "* Expand text \n",
      "* Convert to bullet points.\n",
      "\n",
      "\n",
      "The document also highlights other features, such as user prompts, a local LLM, and the ability to view differences between original and improved text. \n",
      "\n"
     ]
    },
    {
     "name": "stderr",
     "output_type": "stream",
     "text": [
      "/home/kar/Projects/News_Summary/venv/lib/python3.12/site-packages/transformers/tokenization_utils_base.py:1601: FutureWarning: `clean_up_tokenization_spaces` was not set. It will be set to `True` by default. This behavior will be depracted in transformers v4.45, and will be then set to `False` by default. For more details check this issue: https://github.com/huggingface/transformers/issues/31884\n",
      "  warnings.warn(\n"
     ]
    },
    {
     "name": "stdout",
     "output_type": "stream",
     "text": [
      "This document describes a grammar and writing improvement tool, Scramble, and its features. \n",
      "\n",
      "**Here are some key details:**\n",
      "\n",
      "* **Open-Source:** The code for the tool is open source, allowing developers to contribute and modify it. \n",
      "* **Custom Prompts:**  Users can customize their prompts to target specific types of text improvements (e.g., grammar correction, writing style).\n",
      "* **Local LLM:** Unlike many online tools, Scramble uses a local language model, meaning your data stays on your device. This enhances privacy and offline functionality.\n",
      "* **Enhanced Context Awareness:** The tool is designed to better understand the context of your text for more accurate improvements.\n",
      "* **Integration:** It can be integrated with other AI services.\n",
      "* **API Key:** You'll need an API key from OpenAI to access the tool's full capabilities. \n",
      "\n",
      "**However, this document does not answer a specific question.** To provide a better response, please rephrase or clarify your question using the context provided in the document. For example:  \n",
      "\n",
      "\n",
      "\"Can you summarize the functionality of Scramble's language model?\"  \n",
      "\n"
     ]
    },
    {
     "name": "stderr",
     "output_type": "stream",
     "text": [
      "/home/kar/Projects/News_Summary/venv/lib/python3.12/site-packages/transformers/tokenization_utils_base.py:1601: FutureWarning: `clean_up_tokenization_spaces` was not set. It will be set to `True` by default. This behavior will be depracted in transformers v4.45, and will be then set to `False` by default. For more details check this issue: https://github.com/huggingface/transformers/issues/31884\n",
      "  warnings.warn(\n"
     ]
    },
    {
     "name": "stdout",
     "output_type": "stream",
     "text": [
      "The provided text describes an AI writing assistant called \"Scramble\" and its features, but it does not answer the question about what is the primary focus of this AI. \n",
      "\n",
      "\n",
      "\n",
      "Let me know if you have other questions! 😊\n",
      "\n"
     ]
    },
    {
     "name": "stderr",
     "output_type": "stream",
     "text": [
      "/home/kar/Projects/News_Summary/venv/lib/python3.12/site-packages/transformers/tokenization_utils_base.py:1601: FutureWarning: `clean_up_tokenization_spaces` was not set. It will be set to `True` by default. This behavior will be depracted in transformers v4.45, and will be then set to `False` by default. For more details check this issue: https://github.com/huggingface/transformers/issues/31884\n",
      "  warnings.warn(\n"
     ]
    },
    {
     "name": "stdout",
     "output_type": "stream",
     "text": [
      "This document describes an AI-powered text enhancement tool called \"Scramble.\"  Here's a summary of what we know: \n",
      "\n",
      "**Features:**\n",
      "\n",
      "* **Custom Prompts:** Users can create specific prompts to guide the tool's behavior.\n",
      "* **Language Model Support:** The tool supports various language models (LLMs).\n",
      "* **Enhanced Context Awareness:** It seems better equipped to understand and analyze context than standard grammar tools.\n",
      "* **Integration with Other AI Services:**  The tool can integrate with other AI services, suggesting a wider range of functionality. \n",
      "* **Diff View:** It allows comparing original and improved text.\n",
      "* **Grammar/Spelling Issues Highlighting:** The tool highlights grammatical or spelling errors in the text. \n",
      "* **Local LLM:** This means it does not rely on an external service for its AI capabilities, improving speed and security.\n",
      "\n",
      "**Contributing & License:**\n",
      "\n",
      "* **Contributions:**  The code is open-source, encouraging community contributions through pull requests.  \n",
      "* **MIT License:** The software license grants users broad usage rights.\n",
      "\n",
      "**Other Information:**\n",
      "\n",
      "* **About:** Explains the tool's purpose as an alternative to Grammarly. \n",
      "* **Resources:** Links to documentation and information about the AI Selector tool (which is likely related to this text editor). \n",
      "* **AI Selector:**  This appears to be a separate tool that helps users select the best AI service based on their needs (\"목적\" - target in Korean).\n",
      "\n",
      "\n",
      "\n",
      "\n",
      "**Question:** How can you use \"Scramble\"?\n",
      "\n",
      "**Answer:** We do not have enough information to answer.   The provided text focuses on the capabilities of the \"Scramble\" program and does not detail user instructions for its actual operation. \n",
      "\n"
     ]
    },
    {
     "name": "stderr",
     "output_type": "stream",
     "text": [
      "/home/kar/Projects/News_Summary/venv/lib/python3.12/site-packages/transformers/tokenization_utils_base.py:1601: FutureWarning: `clean_up_tokenization_spaces` was not set. It will be set to `True` by default. This behavior will be depracted in transformers v4.45, and will be then set to `False` by default. For more details check this issue: https://github.com/huggingface/transformers/issues/31884\n",
      "  warnings.warn(\n"
     ]
    },
    {
     "name": "stdout",
     "output_type": "stream",
     "text": [
      "This text discusses the features and capabilities of a grammar and writing improvement tool called \"Scramble\".  Here's a breakdown based on the provided content:\n",
      "\n",
      "**Key Features:**\n",
      "\n",
      "* **Custom User Prompts:** Users can define their own prompts for specific needs. This allows for tailored improvements. \n",
      "* **Multiple Language Models (LLMs):**  \"Scramble\" supports various LLMs, expanding its potential to handle different languages and writing styles.\n",
      "* **Enhanced Context Awareness:** The tool understands the context of text, improving accuracy and relevance of its responses. \n",
      "* **Integration with Other AI Services:**  \"Scramble\" can connect with other AI services for a broader range of functionalities.\n",
      "* **Text Comparison:** Allows users to see the original and improved versions of their text side-by-side.\n",
      "* **Grammar & Spelling Check:** Offers basic grammar and spelling checks to improve writing clarity. \n",
      "* **Local LLM:**  Instead of relying on third-party services, the tool runs on a local LLM, potentially ensuring greater privacy and control over data.\n",
      "\n",
      "**Contributing & Licensing:**\n",
      "\n",
      "* **Contributions Welcome:** \"Scramble\" encourages open contributions from users via Pull Requests.\n",
      "* **MIT License:** The tool is licensed under the MIT license, allowing for free use, modification, and distribution of the code.\n",
      "\n",
      "\n",
      "**About Scramble and Resources:** \n",
      "\n",
      "*  \"Scramble\" aims to be an open-source alternative to Grammarly, offering advanced grammar correction, writing improvement, and enhanced text functionality. \n",
      "* The text includes a 'Readme' file for detailed information on the software.\n",
      "\n",
      "\n",
      "**Note**: There is limited context about the \"AI Selector\", which seems to be a tool to identify suitable AI services for specific tasks.  The provided text only provides an overview of this tool. \n",
      "\n",
      "\n",
      "Let me know if you have further questions!\n",
      "\n"
     ]
    },
    {
     "name": "stderr",
     "output_type": "stream",
     "text": [
      "/home/kar/Projects/News_Summary/venv/lib/python3.12/site-packages/transformers/tokenization_utils_base.py:1601: FutureWarning: `clean_up_tokenization_spaces` was not set. It will be set to `True` by default. This behavior will be depracted in transformers v4.45, and will be then set to `False` by default. For more details check this issue: https://github.com/huggingface/transformers/issues/31884\n",
      "  warnings.warn(\n"
     ]
    },
    {
     "name": "stdout",
     "output_type": "stream",
     "text": [
      "This document describes a grammar and writing improvement tool called Scramble that has several features like user-defined prompts, integration with other AI services, and enhanced context awareness. \n",
      "\n",
      "Here's why I don't have an answer for the question:  You didn't provide me with a specific question! 😉\n",
      "\n",
      "\n",
      "Please provide a question so I can help you with the answer. \n",
      "\n"
     ]
    },
    {
     "name": "stderr",
     "output_type": "stream",
     "text": [
      "/home/kar/Projects/News_Summary/venv/lib/python3.12/site-packages/transformers/tokenization_utils_base.py:1601: FutureWarning: `clean_up_tokenization_spaces` was not set. It will be set to `True` by default. This behavior will be depracted in transformers v4.45, and will be then set to `False` by default. For more details check this issue: https://github.com/huggingface/transformers/issues/31884\n",
      "  warnings.warn(\n"
     ]
    },
    {
     "name": "stdout",
     "output_type": "stream",
     "text": [
      "This document provides information about a grammar and writing improvement tool called \"Scramble\". \n",
      "\n",
      "**Here's what we learn from the provided text:**\n",
      "\n",
      "* **Scramble is an open-source alternative to Grammarly.** It offers features like spell and grammar correction, improved wording, professional tone, simplified language, summary generation, text expansion, and bullet point conversion.\n",
      "* **It uses an API key for functionality.** Users need to get an OpenAI API key (for the AI engine of Scramble) from OpenAI to use the tool's advanced features. \n",
      "* **It has several pre-configured options** that users can utilize immediately without any complex configuration. These help with basic writing improvement like spelling and grammar correction, improving professional tone, making text simpler, summarizing existing text, expanding it, and converting text into bullet points.  \n",
      "* **The tool is user-friendly.** It uses a clear interface for both the prompts (the initial step you input) and response generation. \n",
      "\n",
      "\n",
      "**To answer your question:**\n",
      "\n",
      "I'm not able to provide an answer as requested without more information about the specific question.  Please rephrase your question! For example, \"What is Scramble's main purpose?\" or \"How does Scramble work with API keys?\". \n",
      "\n"
     ]
    }
   ],
   "source": [
    "# test.py\n",
    "import pandas as pd\n",
    "from ArticleTools import crawling_news\n",
    "from langchain.document_loaders import WebBaseLoader\n",
    "from langchain.text_splitter import RecursiveCharacterTextSplitter\n",
    "from langchain_community.llms import Ollama\n",
    "from langchain import PromptTemplate\n",
    "from langchain.vectorstores import Chroma\n",
    "from langchain.embeddings import SentenceTransformerEmbeddings\n",
    "from langchain.chains import RetrievalQA\n",
    "\n",
    "df = pd.DataFrame(crawling_news.get_req())\n",
    "\n",
    "for link in df['link']:\n",
    "    loader = WebBaseLoader(link)\n",
    "    data = loader.load()\n",
    "\n",
    "    text_splitter=RecursiveCharacterTextSplitter(chunk_size=500, chunk_overlap=0) \n",
    "    all_splits = text_splitter.split_documents(data)\n",
    "\n",
    "\n",
    "    model = Ollama(model='gemma2:2b', stop=[\"<|eot_id|>\"]) # Added the stop token\n",
    "\n",
    "    user_prompt = \"Summarize the content and explain in detail.\"\n",
    "\n",
    "    system_prompt = \"\"\"Think and write your step-by-step reasoning before responding.\n",
    "    Make sure you don't deviate from json grammar.\n",
    "    Please write all conversations in Korean(한국어).\n",
    "    \"\"\"\n",
    "\n",
    "    embeddings = SentenceTransformerEmbeddings(model_name=\"all-MiniLM-L6-v2\")\n",
    "    vectorstore = Chroma.from_documents(documents=all_splits, embedding=embeddings)\n",
    "    docs = vectorstore.similarity_search(user_prompt)\n",
    "\n",
    "    # NOTE: No f-string and no whitespace in curly braces.\n",
    "    template = \"\"\"\n",
    "        <|begin_of_text|>\n",
    "        <|start_header_id|>system<|end_header_id|>\n",
    "        {system_prompt}\n",
    "        <|eot_id|>\n",
    "        <|start_header_id|>user<|end_header_id|>\n",
    "        {user_prompt}\n",
    "        <|eot_id|>\n",
    "        <|start_header_id|>assistant<|end_header_id|>\n",
    "    \"\"\"\n",
    "\n",
    "    prompt = PromptTemplate(\n",
    "        input_variables=['system_prompt', 'user_prompt'],\n",
    "        template=template\n",
    "    )\n",
    "\n",
    "    qachain = RetrievalQA.from_chain_type(model, retriever=vectorstore.as_retriever())\n",
    "\n",
    "    response = qachain(prompt.format(system_prompt=system_prompt, user_prompt=user_prompt))\n",
    "    print(response['result'])"
   ]
  }
 ],
 "metadata": {
  "kernelspec": {
   "display_name": "venv",
   "language": "python",
   "name": "python3"
  },
  "language_info": {
   "codemirror_mode": {
    "name": "ipython",
    "version": 3
   },
   "file_extension": ".py",
   "mimetype": "text/x-python",
   "name": "python",
   "nbconvert_exporter": "python",
   "pygments_lexer": "ipython3",
   "version": "3.12.6"
  }
 },
 "nbformat": 4,
 "nbformat_minor": 2
}
